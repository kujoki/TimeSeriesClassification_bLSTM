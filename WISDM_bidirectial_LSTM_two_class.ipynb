{
  "cells": [
    {
      "cell_type": "code",
      "execution_count": 1,
      "metadata": {
        "id": "8uIB3sRRS-g6"
      },
      "outputs": [],
      "source": [
        "!pip install torchmetrics > None\n",
        "!pip install pytorch-lightning > None"
      ]
    },
    {
      "cell_type": "code",
      "source": [
        "import matplotlib.pyplot as plt\n",
        "import random\n",
        "import numpy as np\n",
        "import pandas as pd\n",
        "from scipy import stats\n",
        "from sklearn.metrics import (accuracy_score, classification_report,\n",
        "                             confusion_matrix, roc_auc_score)\n",
        "from sklearn.utils import resample\n",
        "from torchmetrics import AUROC\n",
        "\n",
        "%matplotlib inline\n",
        "\n",
        "import logging\n",
        "\n",
        "import torch\n",
        "import torchmetrics\n",
        "import torch.nn as nn\n",
        "import torch.optim as optim\n",
        "from pytorch_lightning.loggers import TensorBoardLogger\n",
        "from sklearn import preprocessing\n",
        "from sklearn.model_selection import KFold\n",
        "from sklearn.utils import resample\n",
        "from torch.utils.data import DataLoader, TensorDataset"
      ],
      "metadata": {
        "id": "PQlAOVTceH90"
      },
      "execution_count": 2,
      "outputs": []
    },
    {
      "cell_type": "code",
      "execution_count": 3,
      "metadata": {
        "id": "CJuy7ZSzAT0E"
      },
      "outputs": [],
      "source": [
        "from torch.utils.data import DataLoader"
      ]
    },
    {
      "cell_type": "code",
      "source": [
        "from google.colab import drive\n",
        "drive.mount('/content/drive')"
      ],
      "metadata": {
        "colab": {
          "base_uri": "https://localhost:8080/"
        },
        "id": "bnkaIoEaefC5",
        "outputId": "627ebf29-bf47-4e85-d305-f28c4c858165"
      },
      "execution_count": 4,
      "outputs": [
        {
          "output_type": "stream",
          "name": "stdout",
          "text": [
            "Mounted at /content/drive\n"
          ]
        }
      ]
    },
    {
      "cell_type": "code",
      "execution_count": 5,
      "metadata": {
        "id": "-D6sghet2ePA"
      },
      "outputs": [],
      "source": [
        "torch.manual_seed(42)\n",
        "random.seed(42)"
      ]
    },
    {
      "cell_type": "code",
      "execution_count": 7,
      "metadata": {
        "colab": {
          "base_uri": "https://localhost:8080/"
        },
        "id": "kALI-MmOUiCz",
        "outputId": "86871740-3bff-4950-94ee-715777039cd0"
      },
      "outputs": [
        {
          "output_type": "stream",
          "name": "stderr",
          "text": [
            "<ipython-input-7-d5fd2ef54d06>:5: SettingWithCopyWarning: \n",
            "A value is trying to be set on a copy of a slice from a DataFrame.\n",
            "Try using .loc[row_indexer,col_indexer] = value instead\n",
            "\n",
            "See the caveats in the documentation: https://pandas.pydata.org/pandas-docs/stable/user_guide/indexing.html#returning-a-view-versus-a-copy\n",
            "  filtred_df[0] = filtred_df[0].apply(lambda x: x.split(','))\n",
            "<ipython-input-7-d5fd2ef54d06>:10: SettingWithCopyWarning: \n",
            "A value is trying to be set on a copy of a slice from a DataFrame.\n",
            "Try using .loc[row_indexer,col_indexer] = value instead\n",
            "\n",
            "See the caveats in the documentation: https://pandas.pydata.org/pandas-docs/stable/user_guide/indexing.html#returning-a-view-versus-a-copy\n",
            "  filtred_df[f'{el}'] = filtred_df[0].apply(lambda x: x[i])\n",
            "<ipython-input-7-d5fd2ef54d06>:10: SettingWithCopyWarning: \n",
            "A value is trying to be set on a copy of a slice from a DataFrame.\n",
            "Try using .loc[row_indexer,col_indexer] = value instead\n",
            "\n",
            "See the caveats in the documentation: https://pandas.pydata.org/pandas-docs/stable/user_guide/indexing.html#returning-a-view-versus-a-copy\n",
            "  filtred_df[f'{el}'] = filtred_df[0].apply(lambda x: x[i])\n",
            "<ipython-input-7-d5fd2ef54d06>:10: SettingWithCopyWarning: \n",
            "A value is trying to be set on a copy of a slice from a DataFrame.\n",
            "Try using .loc[row_indexer,col_indexer] = value instead\n",
            "\n",
            "See the caveats in the documentation: https://pandas.pydata.org/pandas-docs/stable/user_guide/indexing.html#returning-a-view-versus-a-copy\n",
            "  filtred_df[f'{el}'] = filtred_df[0].apply(lambda x: x[i])\n",
            "<ipython-input-7-d5fd2ef54d06>:10: SettingWithCopyWarning: \n",
            "A value is trying to be set on a copy of a slice from a DataFrame.\n",
            "Try using .loc[row_indexer,col_indexer] = value instead\n",
            "\n",
            "See the caveats in the documentation: https://pandas.pydata.org/pandas-docs/stable/user_guide/indexing.html#returning-a-view-versus-a-copy\n",
            "  filtred_df[f'{el}'] = filtred_df[0].apply(lambda x: x[i])\n",
            "<ipython-input-7-d5fd2ef54d06>:10: SettingWithCopyWarning: \n",
            "A value is trying to be set on a copy of a slice from a DataFrame.\n",
            "Try using .loc[row_indexer,col_indexer] = value instead\n",
            "\n",
            "See the caveats in the documentation: https://pandas.pydata.org/pandas-docs/stable/user_guide/indexing.html#returning-a-view-versus-a-copy\n",
            "  filtred_df[f'{el}'] = filtred_df[0].apply(lambda x: x[i])\n",
            "<ipython-input-7-d5fd2ef54d06>:12: SettingWithCopyWarning: \n",
            "A value is trying to be set on a copy of a slice from a DataFrame.\n",
            "Try using .loc[row_indexer,col_indexer] = value instead\n",
            "\n",
            "See the caveats in the documentation: https://pandas.pydata.org/pandas-docs/stable/user_guide/indexing.html#returning-a-view-versus-a-copy\n",
            "  filtred_df[f'{el}'] = filtred_df[0].apply(lambda x: x[i][:-1])\n"
          ]
        }
      ],
      "source": [
        "df = pd.read_csv(\"/content/drive/MyDrive/WISDM/WISDM_ar_v1.1_raw.txt\", sep = ' ', header = None)\n",
        "\n",
        "df['lenght'] = df[0].apply(lambda x: x.split(',')).apply(lambda x: len(x))\n",
        "filtred_df = df[~df['lenght'].isin([7, 11])]\n",
        "filtred_df[0] = filtred_df[0].apply(lambda x: x.split(','))\n",
        "\n",
        "columns = ['user','activity','timestamp', 'x-axis', 'y-axis', 'z-axis']\n",
        "for i, el in enumerate(columns):\n",
        "  if i != len(columns)-1:\n",
        "    filtred_df[f'{el}'] = filtred_df[0].apply(lambda x: x[i])\n",
        "  else:\n",
        "    filtred_df[f'{el}'] = filtred_df[0].apply(lambda x: x[i][:-1])\n",
        "\n",
        "filtred_df = filtred_df.drop(columns = [0, 'lenght', 'timestamp'])"
      ]
    },
    {
      "cell_type": "code",
      "execution_count": 8,
      "metadata": {
        "id": "J0vTM5RWeGnV"
      },
      "outputs": [],
      "source": [
        "def transform_activity(x):\n",
        "  if x in ['Jogging', 'Upstairs', 'Downstairs']:\n",
        "    return 1\n",
        "  elif x in ['Walking', 'Sitting', 'Standing']:\n",
        "    return 0\n"
      ]
    },
    {
      "cell_type": "code",
      "execution_count": 9,
      "metadata": {
        "id": "R428SB_PeGnW"
      },
      "outputs": [],
      "source": [
        "filtred_df.activity = filtred_df.activity.apply(lambda x: transform_activity(x))"
      ]
    },
    {
      "cell_type": "code",
      "execution_count": 10,
      "metadata": {
        "colab": {
          "base_uri": "https://localhost:8080/"
        },
        "id": "TzpENKaoU15e",
        "outputId": "5ad071ab-d9ff-4765-adf6-97eb92fe70d3"
      },
      "outputs": [
        {
          "output_type": "stream",
          "name": "stdout",
          "text": [
            "<class 'pandas.core.frame.DataFrame'>\n",
            "Int64Index: 1086466 entries, 0 to 1098203\n",
            "Data columns (total 5 columns):\n",
            " #   Column    Non-Null Count    Dtype \n",
            "---  ------    --------------    ----- \n",
            " 0   user      1086466 non-null  object\n",
            " 1   activity  1086466 non-null  int64 \n",
            " 2   x-axis    1086466 non-null  object\n",
            " 3   y-axis    1086466 non-null  object\n",
            " 4   z-axis    1086466 non-null  object\n",
            "dtypes: int64(1), object(4)\n",
            "memory usage: 49.7+ MB\n"
          ]
        }
      ],
      "source": [
        "filtred_df.info()"
      ]
    },
    {
      "cell_type": "code",
      "execution_count": 11,
      "metadata": {
        "id": "DgdZpV3TV9yW"
      },
      "outputs": [],
      "source": [
        "def transform(x):\n",
        "  try:\n",
        "    x = float(x)\n",
        "  except ValueError:\n",
        "    x = np.nan\n",
        "  return x\n"
      ]
    },
    {
      "cell_type": "code",
      "execution_count": 12,
      "metadata": {
        "id": "V5IPLcYcVhZU"
      },
      "outputs": [],
      "source": [
        "for el in filtred_df.columns:\n",
        "  filtred_df[el] = filtred_df[el].apply(lambda x: transform(x))\n"
      ]
    },
    {
      "cell_type": "code",
      "execution_count": 13,
      "metadata": {
        "id": "8A7HUgQHDYRO"
      },
      "outputs": [],
      "source": [
        "for col in ['x-axis', 'y-axis', 'z-axis']:\n",
        "  mean_value = filtred_df[col].mean()\n",
        "  sigma = filtred_df[col].std()\n",
        "  filtred_df[col] = filtred_df[col].apply(lambda x: (x-mean_value)/sigma)"
      ]
    },
    {
      "cell_type": "code",
      "execution_count": 14,
      "metadata": {
        "id": "3gB-Hk2hA9Hs"
      },
      "outputs": [],
      "source": [
        "unique_users = list(filtred_df[\"user\"].unique())\n",
        "random.shuffle(unique_users)"
      ]
    },
    {
      "cell_type": "code",
      "execution_count": 15,
      "metadata": {
        "colab": {
          "base_uri": "https://localhost:8080/"
        },
        "id": "Rvl8oWRRgU7f",
        "outputId": "e449dbf6-0a76-4fdc-8e90-04f966cd05ce"
      },
      "outputs": [
        {
          "output_type": "execute_result",
          "data": {
            "text/plain": [
              "20.0    56632\n",
              "19.0    45383\n",
              "31.0    44282\n",
              "8.0     41188\n",
              "29.0    38245\n",
              "14.0    38192\n",
              "13.0    37092\n",
              "34.0    35947\n",
              "32.0    35506\n",
              "3.0     35161\n",
              "27.0    34957\n",
              "10.0    34883\n",
              "18.0    32810\n",
              "12.0    32641\n",
              "26.0    32578\n",
              "36.0    32261\n",
              "11.0    31659\n",
              "7.0     30967\n",
              "1.0     29978\n",
              "6.0     29704\n",
              "33.0    29453\n",
              "5.0     28509\n",
              "15.0    28154\n",
              "24.0    25736\n",
              "23.0    25673\n",
              "30.0    25334\n",
              "21.0    23703\n",
              "2.0     23525\n",
              "35.0    22394\n",
              "22.0    22310\n",
              "17.0    22020\n",
              "28.0    21358\n",
              "16.0    20469\n",
              "25.0    13468\n",
              "9.0     12923\n",
              "4.0     11371\n",
              "Name: user, dtype: int64"
            ]
          },
          "metadata": {},
          "execution_count": 15
        }
      ],
      "source": [
        "filtred_df['user'].value_counts()"
      ]
    },
    {
      "cell_type": "code",
      "execution_count": 16,
      "metadata": {
        "colab": {
          "base_uri": "https://localhost:8080/"
        },
        "id": "arLhDuyvb5PI",
        "outputId": "07343150-14e9-4290-cde7-80bb621fa0bc"
      },
      "outputs": [
        {
          "output_type": "stream",
          "name": "stdout",
          "text": [
            "15078 15078\n"
          ]
        }
      ],
      "source": [
        "def group_by_user(df, user):\n",
        "  return df[df['user'] == user].reset_index(drop = True)\n",
        "\n",
        "def create_window(df, overlay, window_size, train_x, train_y):\n",
        "  for i in range(0, df.shape[0], overlay):\n",
        "    df_sub = df.iloc[i:i+window_size]\n",
        "\n",
        "    if df_sub.shape[0] == window_size:\n",
        "      train_x.append(df_sub[['x-axis', 'y-axis', 'z-axis']].to_numpy())\n",
        "      train_y.append(df_sub['activity'].mode().iloc[0])\n",
        "\n",
        "  return train_x, train_y\n",
        "\n",
        "\n",
        "train_x = []\n",
        "train_y = []\n",
        "\n",
        "window_size = 100\n",
        "overlay = 50\n",
        "\n",
        "users = unique_users[12:]\n",
        "for user in users:\n",
        "  df_user = group_by_user(filtred_df, user)\n",
        "  create_window(df_user, overlay, window_size, train_x, train_y)\n",
        "\n",
        "print (len(train_x), len(train_y))\n"
      ]
    },
    {
      "cell_type": "code",
      "execution_count": 17,
      "metadata": {
        "colab": {
          "base_uri": "https://localhost:8080/"
        },
        "id": "yLIWJX0NITxI",
        "outputId": "654875b2-0eb5-436f-e297-117fe094b139"
      },
      "outputs": [
        {
          "output_type": "stream",
          "name": "stdout",
          "text": [
            "3775 3775\n"
          ]
        }
      ],
      "source": [
        "test_x = []\n",
        "test_y = []\n",
        "\n",
        "users = unique_users[12:18]\n",
        "for user in users:\n",
        "  df_user = group_by_user(filtred_df, user)\n",
        "  create_window(df_user, overlay, window_size, test_x, test_y)\n",
        "\n",
        "print (len(test_x), len(test_y))\n"
      ]
    },
    {
      "cell_type": "code",
      "execution_count": 18,
      "metadata": {
        "colab": {
          "base_uri": "https://localhost:8080/"
        },
        "id": "TStIfm5im0KQ",
        "outputId": "f2c08778-81ee-4c31-bcb5-447d7e733ac0"
      },
      "outputs": [
        {
          "output_type": "stream",
          "name": "stdout",
          "text": [
            "2516 2516\n"
          ]
        }
      ],
      "source": [
        "control_x = []\n",
        "control_y = []\n",
        "\n",
        "users = unique_users[18:22]\n",
        "for user in users:\n",
        "  df_user = group_by_user(filtred_df, user)\n",
        "  create_window(df_user, overlay, window_size, control_x, control_y)\n",
        "\n",
        "print (len(control_x), len(control_y))"
      ]
    },
    {
      "cell_type": "code",
      "execution_count": 19,
      "metadata": {
        "colab": {
          "base_uri": "https://localhost:8080/"
        },
        "id": "-hzS9tAjzHpK",
        "outputId": "07526a36-1b1b-403f-a222-5b36ae040d75"
      },
      "outputs": [
        {
          "output_type": "stream",
          "name": "stderr",
          "text": [
            "<ipython-input-19-bab83bad87de>:1: UserWarning: Creating a tensor from a list of numpy.ndarrays is extremely slow. Please consider converting the list to a single numpy.ndarray with numpy.array() before converting to a tensor. (Triggered internally at ../torch/csrc/utils/tensor_new.cpp:245.)\n",
            "  train_dataset = TensorDataset(torch.tensor(train_x, dtype=torch.float32), torch.tensor(train_y, dtype=torch.float32))\n"
          ]
        }
      ],
      "source": [
        "train_dataset = TensorDataset(torch.tensor(train_x, dtype=torch.float32), torch.tensor(train_y, dtype=torch.float32))\n",
        "train_loader = DataLoader(train_dataset, batch_size=128, shuffle=True, drop_last = True)\n",
        "\n",
        "test_dataset = TensorDataset(torch.tensor(test_x, dtype=torch.float32), torch.tensor(test_y, dtype=torch.float32))\n",
        "test_loader = DataLoader(test_dataset, batch_size=128, shuffle=True, drop_last = True)"
      ]
    },
    {
      "cell_type": "code",
      "execution_count": 20,
      "metadata": {
        "id": "T4oVnOn1mqs3"
      },
      "outputs": [],
      "source": [
        "control_dataset = TensorDataset(torch.tensor(control_x, dtype=torch.float32), torch.tensor(control_y, dtype=torch.float32))\n",
        "control_loader = DataLoader(control_dataset, batch_size=128, shuffle=True, drop_last = True)"
      ]
    },
    {
      "cell_type": "code",
      "execution_count": 21,
      "metadata": {
        "id": "B-o4RM5N19_S"
      },
      "outputs": [],
      "source": [
        "class Net(nn.Module):\n",
        "  def __init__(self):\n",
        "    super(Net, self).__init__()\n",
        "    self.lstm1 = nn.LSTM(input_size = 3, hidden_size = 1024, bidirectional=True, batch_first=True)\n",
        "    self.lstm2 = nn.LSTM(input_size = 2048, hidden_size = 768, bidirectional=True, batch_first=True)\n",
        "    self.lstm3 = nn.LSTM(input_size = 3, hidden_size = 768, bidirectional=True, batch_first=True)\n",
        "    self.lstm4 = nn.LSTM(input_size = 3072, hidden_size = 512, bidirectional=True, batch_first=True)\n",
        "    self.lstm5 = nn.LSTM(input_size = 1536, hidden_size = 512, bidirectional=True, batch_first=True)\n",
        "    self.global_max_pooling = torch.nn.Sequential(\n",
        "    torch.nn.AdaptiveMaxPool1d(1),\n",
        "    torch.nn.Flatten(),)\n",
        "    self.dense_1 = nn.Linear(100, 128)\n",
        "    self.dropout = nn.Dropout(0.05)\n",
        "    self.dense_2 = nn.Linear(128, 2)\n",
        "    self.dense_3 = nn.Softmax()\n",
        "\n",
        "  def forward(self, inputs):\n",
        "        x1, _ = self.lstm1(inputs)\n",
        "        l1, _ = self.lstm2(x1)\n",
        "        l2, _ = self.lstm3(inputs)\n",
        "        c1 = torch.cat((l1, l2), dim=2)\n",
        "\n",
        "        l3, _ = self.lstm4(c1)\n",
        "        l4, _ = self.lstm5(l2)\n",
        "\n",
        "        c2 = torch.cat((l3, l4), dim=2)\n",
        "        l6 = self.global_max_pooling(c2)\n",
        "        l7 = self.dense_1(l6)\n",
        "        l8 = self.dropout(l7)\n",
        "\n",
        "        output = self.dense_2(l8)\n",
        "        output = self.dense_3(output)\n",
        "\n",
        "        return output"
      ]
    },
    {
      "cell_type": "code",
      "execution_count": 22,
      "metadata": {
        "colab": {
          "base_uri": "https://localhost:8080/"
        },
        "id": "cUTIHlbc2UaH",
        "outputId": "8892f95c-1d44-4c19-d13f-6604bd50af3e"
      },
      "outputs": [
        {
          "output_type": "stream",
          "name": "stdout",
          "text": [
            "torch.Size([128, 100, 3]) torch.Size([128])\n"
          ]
        }
      ],
      "source": [
        "for inputs, labels in train_loader:\n",
        "  print (inputs.shape, labels.shape)\n",
        "  break"
      ]
    },
    {
      "cell_type": "code",
      "execution_count": 23,
      "metadata": {
        "id": "qkUqzxiO9zu1"
      },
      "outputs": [],
      "source": [
        "device = torch.device(\"cuda:0\" if torch.cuda.is_available() else \"cpu\")\n",
        "model = Net()\n",
        "model = model.to(device)\n",
        "optimizer = torch.optim.Adam(model.parameters(), lr=1e-5)\n",
        "criterion = nn.CrossEntropyLoss()"
      ]
    },
    {
      "cell_type": "code",
      "execution_count": 24,
      "metadata": {
        "id": "roUS3M6O9-AI"
      },
      "outputs": [],
      "source": [
        "def calculate_accuracy(y_true, y_pred):\n",
        "    y_pred_labels = np.argmax(y_pred, axis=1)\n",
        "    accuracy = accuracy_score(y_true, y_pred_labels)\n",
        "    return accuracy"
      ]
    },
    {
      "cell_type": "code",
      "execution_count": 25,
      "metadata": {
        "colab": {
          "base_uri": "https://localhost:8080/"
        },
        "id": "uCkoIqq9-OTI",
        "outputId": "3016e97b-c3cf-4dfa-e3fd-e7033ca1db7c"
      },
      "outputs": [
        {
          "output_type": "execute_result",
          "data": {
            "text/plain": [
              "device(type='cuda', index=0)"
            ]
          },
          "metadata": {},
          "execution_count": 25
        }
      ],
      "source": [
        "device"
      ]
    },
    {
      "cell_type": "code",
      "execution_count": 26,
      "metadata": {
        "colab": {
          "base_uri": "https://localhost:8080/"
        },
        "id": "H5HgXe5z9qMg",
        "outputId": "09b18853-0e03-43ae-e3a2-02208f06feea"
      },
      "outputs": [
        {
          "output_type": "stream",
          "name": "stdout",
          "text": [
            "epochs 1/20\n"
          ]
        },
        {
          "output_type": "stream",
          "name": "stderr",
          "text": [
            "<ipython-input-21-a0f25ea1cb77>:32: UserWarning: Implicit dimension choice for softmax has been deprecated. Change the call to include dim=X as an argument.\n",
            "  output = self.dense_3(output)\n"
          ]
        },
        {
          "output_type": "stream",
          "name": "stdout",
          "text": [
            "train_loss 0.6888217329978943, train_accuracy 0.5468082264957265\n"
          ]
        },
        {
          "output_type": "stream",
          "name": "stderr",
          "text": [
            "<ipython-input-21-a0f25ea1cb77>:32: UserWarning: Implicit dimension choice for softmax has been deprecated. Change the call to include dim=X as an argument.\n",
            "  output = self.dense_3(output)\n"
          ]
        },
        {
          "output_type": "stream",
          "name": "stdout",
          "text": [
            "validation_loss 3.2772254943847656, validation_accuracy 0.5299030172413793\n",
            "epochs 2/20\n"
          ]
        },
        {
          "output_type": "stream",
          "name": "stderr",
          "text": [
            "<ipython-input-21-a0f25ea1cb77>:32: UserWarning: Implicit dimension choice for softmax has been deprecated. Change the call to include dim=X as an argument.\n",
            "  output = self.dense_3(output)\n"
          ]
        },
        {
          "output_type": "stream",
          "name": "stdout",
          "text": [
            "train_loss 0.6705309748649597, train_accuracy 0.5416666666666666\n"
          ]
        },
        {
          "output_type": "stream",
          "name": "stderr",
          "text": [
            "<ipython-input-21-a0f25ea1cb77>:32: UserWarning: Implicit dimension choice for softmax has been deprecated. Change the call to include dim=X as an argument.\n",
            "  output = self.dense_3(output)\n"
          ]
        },
        {
          "output_type": "stream",
          "name": "stdout",
          "text": [
            "validation_loss 3.283024311065674, validation_accuracy 0.5239762931034483\n",
            "epochs 3/20\n"
          ]
        },
        {
          "output_type": "stream",
          "name": "stderr",
          "text": [
            "<ipython-input-21-a0f25ea1cb77>:32: UserWarning: Implicit dimension choice for softmax has been deprecated. Change the call to include dim=X as an argument.\n",
            "  output = self.dense_3(output)\n"
          ]
        },
        {
          "output_type": "stream",
          "name": "stdout",
          "text": [
            "train_loss 0.6513432860374451, train_accuracy 0.5755208333333334\n"
          ]
        },
        {
          "output_type": "stream",
          "name": "stderr",
          "text": [
            "<ipython-input-21-a0f25ea1cb77>:32: UserWarning: Implicit dimension choice for softmax has been deprecated. Change the call to include dim=X as an argument.\n",
            "  output = self.dense_3(output)\n"
          ]
        },
        {
          "output_type": "stream",
          "name": "stdout",
          "text": [
            "validation_loss 3.177919864654541, validation_accuracy 0.6179956896551724\n",
            "epochs 4/20\n"
          ]
        },
        {
          "output_type": "stream",
          "name": "stderr",
          "text": [
            "<ipython-input-21-a0f25ea1cb77>:32: UserWarning: Implicit dimension choice for softmax has been deprecated. Change the call to include dim=X as an argument.\n",
            "  output = self.dense_3(output)\n"
          ]
        },
        {
          "output_type": "stream",
          "name": "stdout",
          "text": [
            "train_loss 0.6389609575271606, train_accuracy 0.7170138888888888\n"
          ]
        },
        {
          "output_type": "stream",
          "name": "stderr",
          "text": [
            "<ipython-input-21-a0f25ea1cb77>:32: UserWarning: Implicit dimension choice for softmax has been deprecated. Change the call to include dim=X as an argument.\n",
            "  output = self.dense_3(output)\n"
          ]
        },
        {
          "output_type": "stream",
          "name": "stdout",
          "text": [
            "validation_loss 3.1237945556640625, validation_accuracy 0.7699353448275862\n",
            "epochs 5/20\n"
          ]
        },
        {
          "output_type": "stream",
          "name": "stderr",
          "text": [
            "<ipython-input-21-a0f25ea1cb77>:32: UserWarning: Implicit dimension choice for softmax has been deprecated. Change the call to include dim=X as an argument.\n",
            "  output = self.dense_3(output)\n"
          ]
        },
        {
          "output_type": "stream",
          "name": "stdout",
          "text": [
            "train_loss 0.6281662583351135, train_accuracy 0.7519364316239316\n"
          ]
        },
        {
          "output_type": "stream",
          "name": "stderr",
          "text": [
            "<ipython-input-21-a0f25ea1cb77>:32: UserWarning: Implicit dimension choice for softmax has been deprecated. Change the call to include dim=X as an argument.\n",
            "  output = self.dense_3(output)\n"
          ]
        },
        {
          "output_type": "stream",
          "name": "stdout",
          "text": [
            "validation_loss 3.0183982849121094, validation_accuracy 0.7306034482758621\n",
            "epochs 6/20\n"
          ]
        },
        {
          "output_type": "stream",
          "name": "stderr",
          "text": [
            "<ipython-input-21-a0f25ea1cb77>:32: UserWarning: Implicit dimension choice for softmax has been deprecated. Change the call to include dim=X as an argument.\n",
            "  output = self.dense_3(output)\n"
          ]
        },
        {
          "output_type": "stream",
          "name": "stdout",
          "text": [
            "train_loss 0.6004834175109863, train_accuracy 0.7761752136752137\n"
          ]
        },
        {
          "output_type": "stream",
          "name": "stderr",
          "text": [
            "<ipython-input-21-a0f25ea1cb77>:32: UserWarning: Implicit dimension choice for softmax has been deprecated. Change the call to include dim=X as an argument.\n",
            "  output = self.dense_3(output)\n"
          ]
        },
        {
          "output_type": "stream",
          "name": "stdout",
          "text": [
            "validation_loss 2.748263120651245, validation_accuracy 0.7491918103448276\n",
            "epochs 7/20\n"
          ]
        },
        {
          "output_type": "stream",
          "name": "stderr",
          "text": [
            "<ipython-input-21-a0f25ea1cb77>:32: UserWarning: Implicit dimension choice for softmax has been deprecated. Change the call to include dim=X as an argument.\n",
            "  output = self.dense_3(output)\n"
          ]
        },
        {
          "output_type": "stream",
          "name": "stdout",
          "text": [
            "train_loss 0.5532834529876709, train_accuracy 0.8458199786324786\n"
          ]
        },
        {
          "output_type": "stream",
          "name": "stderr",
          "text": [
            "<ipython-input-21-a0f25ea1cb77>:32: UserWarning: Implicit dimension choice for softmax has been deprecated. Change the call to include dim=X as an argument.\n",
            "  output = self.dense_3(output)\n"
          ]
        },
        {
          "output_type": "stream",
          "name": "stdout",
          "text": [
            "validation_loss 2.4876046180725098, validation_accuracy 0.8938577586206896\n",
            "epochs 8/20\n"
          ]
        },
        {
          "output_type": "stream",
          "name": "stderr",
          "text": [
            "<ipython-input-21-a0f25ea1cb77>:32: UserWarning: Implicit dimension choice for softmax has been deprecated. Change the call to include dim=X as an argument.\n",
            "  output = self.dense_3(output)\n"
          ]
        },
        {
          "output_type": "stream",
          "name": "stdout",
          "text": [
            "train_loss 0.5086134076118469, train_accuracy 0.8654513888888888\n"
          ]
        },
        {
          "output_type": "stream",
          "name": "stderr",
          "text": [
            "<ipython-input-21-a0f25ea1cb77>:32: UserWarning: Implicit dimension choice for softmax has been deprecated. Change the call to include dim=X as an argument.\n",
            "  output = self.dense_3(output)\n"
          ]
        },
        {
          "output_type": "stream",
          "name": "stdout",
          "text": [
            "validation_loss 2.261106014251709, validation_accuracy 0.8803879310344828\n",
            "epochs 9/20\n"
          ]
        },
        {
          "output_type": "stream",
          "name": "stderr",
          "text": [
            "<ipython-input-21-a0f25ea1cb77>:32: UserWarning: Implicit dimension choice for softmax has been deprecated. Change the call to include dim=X as an argument.\n",
            "  output = self.dense_3(output)\n"
          ]
        },
        {
          "output_type": "stream",
          "name": "stdout",
          "text": [
            "train_loss 0.4707966446876526, train_accuracy 0.8691239316239316\n"
          ]
        },
        {
          "output_type": "stream",
          "name": "stderr",
          "text": [
            "<ipython-input-21-a0f25ea1cb77>:32: UserWarning: Implicit dimension choice for softmax has been deprecated. Change the call to include dim=X as an argument.\n",
            "  output = self.dense_3(output)\n"
          ]
        },
        {
          "output_type": "stream",
          "name": "stdout",
          "text": [
            "validation_loss 2.209808826446533, validation_accuracy 0.8733836206896551\n",
            "epochs 10/20\n"
          ]
        },
        {
          "output_type": "stream",
          "name": "stderr",
          "text": [
            "<ipython-input-21-a0f25ea1cb77>:32: UserWarning: Implicit dimension choice for softmax has been deprecated. Change the call to include dim=X as an argument.\n",
            "  output = self.dense_3(output)\n"
          ]
        },
        {
          "output_type": "stream",
          "name": "stdout",
          "text": [
            "train_loss 0.4498824179172516, train_accuracy 0.8797409188034188\n"
          ]
        },
        {
          "output_type": "stream",
          "name": "stderr",
          "text": [
            "<ipython-input-21-a0f25ea1cb77>:32: UserWarning: Implicit dimension choice for softmax has been deprecated. Change the call to include dim=X as an argument.\n",
            "  output = self.dense_3(output)\n"
          ]
        },
        {
          "output_type": "stream",
          "name": "stdout",
          "text": [
            "validation_loss 2.0129666328430176, validation_accuracy 0.908135775862069\n",
            "epochs 11/20\n"
          ]
        },
        {
          "output_type": "stream",
          "name": "stderr",
          "text": [
            "<ipython-input-21-a0f25ea1cb77>:32: UserWarning: Implicit dimension choice for softmax has been deprecated. Change the call to include dim=X as an argument.\n",
            "  output = self.dense_3(output)\n"
          ]
        },
        {
          "output_type": "stream",
          "name": "stdout",
          "text": [
            "train_loss 0.4397417902946472, train_accuracy 0.8818108974358975\n"
          ]
        },
        {
          "output_type": "stream",
          "name": "stderr",
          "text": [
            "<ipython-input-21-a0f25ea1cb77>:32: UserWarning: Implicit dimension choice for softmax has been deprecated. Change the call to include dim=X as an argument.\n",
            "  output = self.dense_3(output)\n"
          ]
        },
        {
          "output_type": "stream",
          "name": "stdout",
          "text": [
            "validation_loss 1.9915556907653809, validation_accuracy 0.9156788793103449\n",
            "epochs 12/20\n"
          ]
        },
        {
          "output_type": "stream",
          "name": "stderr",
          "text": [
            "<ipython-input-21-a0f25ea1cb77>:32: UserWarning: Implicit dimension choice for softmax has been deprecated. Change the call to include dim=X as an argument.\n",
            "  output = self.dense_3(output)\n"
          ]
        },
        {
          "output_type": "stream",
          "name": "stdout",
          "text": [
            "train_loss 0.4343428909778595, train_accuracy 0.8835470085470085\n"
          ]
        },
        {
          "output_type": "stream",
          "name": "stderr",
          "text": [
            "<ipython-input-21-a0f25ea1cb77>:32: UserWarning: Implicit dimension choice for softmax has been deprecated. Change the call to include dim=X as an argument.\n",
            "  output = self.dense_3(output)\n"
          ]
        },
        {
          "output_type": "stream",
          "name": "stdout",
          "text": [
            "validation_loss 1.9543484449386597, validation_accuracy 0.9164870689655172\n",
            "epochs 13/20\n"
          ]
        },
        {
          "output_type": "stream",
          "name": "stderr",
          "text": [
            "<ipython-input-21-a0f25ea1cb77>:32: UserWarning: Implicit dimension choice for softmax has been deprecated. Change the call to include dim=X as an argument.\n",
            "  output = self.dense_3(output)\n"
          ]
        },
        {
          "output_type": "stream",
          "name": "stdout",
          "text": [
            "train_loss 0.43028023838996887, train_accuracy 0.8854166666666666\n"
          ]
        },
        {
          "output_type": "stream",
          "name": "stderr",
          "text": [
            "<ipython-input-21-a0f25ea1cb77>:32: UserWarning: Implicit dimension choice for softmax has been deprecated. Change the call to include dim=X as an argument.\n",
            "  output = self.dense_3(output)\n"
          ]
        },
        {
          "output_type": "stream",
          "name": "stdout",
          "text": [
            "validation_loss 1.9386924505233765, validation_accuracy 0.9156788793103449\n",
            "epochs 14/20\n"
          ]
        },
        {
          "output_type": "stream",
          "name": "stderr",
          "text": [
            "<ipython-input-21-a0f25ea1cb77>:32: UserWarning: Implicit dimension choice for softmax has been deprecated. Change the call to include dim=X as an argument.\n",
            "  output = self.dense_3(output)\n"
          ]
        },
        {
          "output_type": "stream",
          "name": "stdout",
          "text": [
            "train_loss 0.424299955368042, train_accuracy 0.8904246794871795\n"
          ]
        },
        {
          "output_type": "stream",
          "name": "stderr",
          "text": [
            "<ipython-input-21-a0f25ea1cb77>:32: UserWarning: Implicit dimension choice for softmax has been deprecated. Change the call to include dim=X as an argument.\n",
            "  output = self.dense_3(output)\n"
          ]
        },
        {
          "output_type": "stream",
          "name": "stdout",
          "text": [
            "validation_loss 1.9071412086486816, validation_accuracy 0.9226831896551724\n",
            "epochs 15/20\n"
          ]
        },
        {
          "output_type": "stream",
          "name": "stderr",
          "text": [
            "<ipython-input-21-a0f25ea1cb77>:32: UserWarning: Implicit dimension choice for softmax has been deprecated. Change the call to include dim=X as an argument.\n",
            "  output = self.dense_3(output)\n"
          ]
        },
        {
          "output_type": "stream",
          "name": "stdout",
          "text": [
            "train_loss 0.4191987216472626, train_accuracy 0.8946314102564102\n"
          ]
        },
        {
          "output_type": "stream",
          "name": "stderr",
          "text": [
            "<ipython-input-21-a0f25ea1cb77>:32: UserWarning: Implicit dimension choice for softmax has been deprecated. Change the call to include dim=X as an argument.\n",
            "  output = self.dense_3(output)\n"
          ]
        },
        {
          "output_type": "stream",
          "name": "stdout",
          "text": [
            "validation_loss 1.819470763206482, validation_accuracy 0.9391163793103449\n",
            "epochs 16/20\n"
          ]
        },
        {
          "output_type": "stream",
          "name": "stderr",
          "text": [
            "<ipython-input-21-a0f25ea1cb77>:32: UserWarning: Implicit dimension choice for softmax has been deprecated. Change the call to include dim=X as an argument.\n",
            "  output = self.dense_3(output)\n"
          ]
        },
        {
          "output_type": "stream",
          "name": "stdout",
          "text": [
            "train_loss 0.41522321105003357, train_accuracy 0.8994391025641025\n"
          ]
        },
        {
          "output_type": "stream",
          "name": "stderr",
          "text": [
            "<ipython-input-21-a0f25ea1cb77>:32: UserWarning: Implicit dimension choice for softmax has been deprecated. Change the call to include dim=X as an argument.\n",
            "  output = self.dense_3(output)\n"
          ]
        },
        {
          "output_type": "stream",
          "name": "stdout",
          "text": [
            "validation_loss 1.850860357284546, validation_accuracy 0.9329202586206896\n",
            "epochs 17/20\n"
          ]
        },
        {
          "output_type": "stream",
          "name": "stderr",
          "text": [
            "<ipython-input-21-a0f25ea1cb77>:32: UserWarning: Implicit dimension choice for softmax has been deprecated. Change the call to include dim=X as an argument.\n",
            "  output = self.dense_3(output)\n"
          ]
        },
        {
          "output_type": "stream",
          "name": "stdout",
          "text": [
            "train_loss 0.41448673605918884, train_accuracy 0.898704594017094\n"
          ]
        },
        {
          "output_type": "stream",
          "name": "stderr",
          "text": [
            "<ipython-input-21-a0f25ea1cb77>:32: UserWarning: Implicit dimension choice for softmax has been deprecated. Change the call to include dim=X as an argument.\n",
            "  output = self.dense_3(output)\n"
          ]
        },
        {
          "output_type": "stream",
          "name": "stdout",
          "text": [
            "validation_loss 1.8355982303619385, validation_accuracy 0.9339978448275862\n",
            "epochs 18/20\n"
          ]
        },
        {
          "output_type": "stream",
          "name": "stderr",
          "text": [
            "<ipython-input-21-a0f25ea1cb77>:32: UserWarning: Implicit dimension choice for softmax has been deprecated. Change the call to include dim=X as an argument.\n",
            "  output = self.dense_3(output)\n"
          ]
        },
        {
          "output_type": "stream",
          "name": "stdout",
          "text": [
            "train_loss 0.4116206765174866, train_accuracy 0.9021768162393162\n"
          ]
        },
        {
          "output_type": "stream",
          "name": "stderr",
          "text": [
            "<ipython-input-21-a0f25ea1cb77>:32: UserWarning: Implicit dimension choice for softmax has been deprecated. Change the call to include dim=X as an argument.\n",
            "  output = self.dense_3(output)\n"
          ]
        },
        {
          "output_type": "stream",
          "name": "stdout",
          "text": [
            "validation_loss 1.851332187652588, validation_accuracy 0.9302262931034483\n",
            "epochs 19/20\n"
          ]
        },
        {
          "output_type": "stream",
          "name": "stderr",
          "text": [
            "<ipython-input-21-a0f25ea1cb77>:32: UserWarning: Implicit dimension choice for softmax has been deprecated. Change the call to include dim=X as an argument.\n",
            "  output = self.dense_3(output)\n"
          ]
        },
        {
          "output_type": "stream",
          "name": "stdout",
          "text": [
            "train_loss 0.4089702069759369, train_accuracy 0.9051148504273504\n"
          ]
        },
        {
          "output_type": "stream",
          "name": "stderr",
          "text": [
            "<ipython-input-21-a0f25ea1cb77>:32: UserWarning: Implicit dimension choice for softmax has been deprecated. Change the call to include dim=X as an argument.\n",
            "  output = self.dense_3(output)\n"
          ]
        },
        {
          "output_type": "stream",
          "name": "stdout",
          "text": [
            "validation_loss 1.8317580223083496, validation_accuracy 0.935614224137931\n",
            "epochs 20/20\n"
          ]
        },
        {
          "output_type": "stream",
          "name": "stderr",
          "text": [
            "<ipython-input-21-a0f25ea1cb77>:32: UserWarning: Implicit dimension choice for softmax has been deprecated. Change the call to include dim=X as an argument.\n",
            "  output = self.dense_3(output)\n"
          ]
        },
        {
          "output_type": "stream",
          "name": "stdout",
          "text": [
            "train_loss 0.4050925672054291, train_accuracy 0.9105235042735043\n"
          ]
        },
        {
          "output_type": "stream",
          "name": "stderr",
          "text": [
            "<ipython-input-21-a0f25ea1cb77>:32: UserWarning: Implicit dimension choice for softmax has been deprecated. Change the call to include dim=X as an argument.\n",
            "  output = self.dense_3(output)\n"
          ]
        },
        {
          "output_type": "stream",
          "name": "stdout",
          "text": [
            "validation_loss 1.8052339553833008, validation_accuracy 0.9412715517241379\n"
          ]
        }
      ],
      "source": [
        "import gc\n",
        "train_losses = []\n",
        "valid_losses = []\n",
        "def train():\n",
        "    running_loss = torch.tensor(0.0, device=device)\n",
        "    y_true = []\n",
        "    y_pred_probs = []\n",
        "    model.train()\n",
        "\n",
        "    for idx, (inputs,labels) in enumerate(train_loader):\n",
        "        inputs = inputs.to(device)\n",
        "        labels = labels.to(device)\n",
        "        optimizer.zero_grad()\n",
        "        preds = model(inputs.float())\n",
        "        loss = criterion(preds, labels.squeeze().long())\n",
        "        loss.backward()\n",
        "        optimizer.step()\n",
        "        running_loss += loss\n",
        "\n",
        "        y_true.extend(labels.cpu().numpy())\n",
        "        y_pred_probs.extend(preds.detach().cpu().numpy())\n",
        "\n",
        "    train_loss = running_loss/len(train_loader)\n",
        "    train_losses.append(train_loss.cpu().detach().numpy())\n",
        "\n",
        "    y_true = np.array(y_true)\n",
        "    y_pred_probs = np.array(y_pred_probs)\n",
        "    accuracy = calculate_accuracy(y_true, y_pred_probs)\n",
        "\n",
        "    print(f'train_loss {train_loss}, train_accuracy {accuracy}')\n",
        "    return train_losses\n",
        "\n",
        "def valid():\n",
        "    running_loss = torch.tensor(0.0, device=device)\n",
        "    y_true = []\n",
        "    y_pred_probs = []\n",
        "    model.eval()\n",
        "\n",
        "    with torch.no_grad():\n",
        "        for idx, (inputs, labels) in enumerate(test_loader):\n",
        "            inputs = inputs.to(device)\n",
        "            labels = labels.to(device)\n",
        "            preds = model(inputs.float())\n",
        "            loss = criterion(preds, labels.squeeze().long())\n",
        "\n",
        "            if not loss.isnan():\n",
        "              running_loss += loss\n",
        "\n",
        "            y_true.extend(labels.cpu().numpy())\n",
        "            y_pred_probs.extend(preds.detach().cpu().numpy())\n",
        "\n",
        "        valid_loss = running_loss/(i+1)\n",
        "        valid_losses.append(valid_loss.cpu().detach().numpy())\n",
        "\n",
        "        y_true = np.array(y_true)\n",
        "        y_pred_probs = np.array(y_pred_probs)\n",
        "        accuracy = calculate_accuracy(y_true, y_pred_probs)\n",
        "\n",
        "        print(f'validation_loss {valid_loss}, validation_accuracy {accuracy}')\n",
        "    return valid_losses, accuracy\n",
        "\n",
        "epochs = 20\n",
        "for epoch in range(epochs):\n",
        "    print('epochs {}/{}'.format(epoch+1,epochs))\n",
        "    train_losses = train()\n",
        "    valid_losses, _ = valid()\n",
        "    gc.collect()"
      ]
    },
    {
      "cell_type": "code",
      "execution_count": 27,
      "metadata": {
        "colab": {
          "base_uri": "https://localhost:8080/",
          "height": 451
        },
        "id": "5rOS3O-U8u_e",
        "outputId": "e98b2c6e-7067-4ba8-90a2-bb69e4dfaf74"
      },
      "outputs": [
        {
          "output_type": "display_data",
          "data": {
            "text/plain": [
              "<Figure size 640x480 with 1 Axes>"
            ],
            "image/png": "[encoded data removed]"
          },
          "metadata": {}
        }
      ],
      "source": [
        "plt.plot(train_losses, label='Train Loss')\n",
        "plt.xlabel('Epoch')\n",
        "plt.ylabel('Loss')\n",
        "plt.legend()\n",
        "plt.show()"
      ]
    },
    {
      "cell_type": "code",
      "execution_count": 28,
      "metadata": {
        "colab": {
          "base_uri": "https://localhost:8080/",
          "height": 449
        },
        "id": "N9sZdO91frCU",
        "outputId": "7bb46f7c-0056-4832-b5e1-aaae32b52e41"
      },
      "outputs": [
        {
          "output_type": "display_data",
          "data": {
            "text/plain": [
              "<Figure size 640x480 with 1 Axes>"
            ],
            "image/png": "[encoded data removed]"
          },
          "metadata": {}
        }
      ],
      "source": [
        "plt.plot(valid_losses, label='Valid Loss')\n",
        "plt.xlabel('Epoch')\n",
        "plt.ylabel('Loss')\n",
        "plt.legend()\n",
        "plt.show()"
      ]
    },
    {
      "cell_type": "code",
      "execution_count": 29,
      "metadata": {
        "id": "5eQVDjwZoa09"
      },
      "outputs": [],
      "source": [
        "def after_argmax(y_pred):\n",
        "    y_pred_labels = np.argmax(y_pred, axis=1)\n",
        "    return y_pred_labels"
      ]
    },
    {
      "cell_type": "code",
      "execution_count": 32,
      "metadata": {
        "colab": {
          "base_uri": "https://localhost:8080/"
        },
        "id": "4I4UaVY3oiho",
        "outputId": "13e5a633-e0a4-4d20-8f69-233707ebf97a"
      },
      "outputs": [
        {
          "output_type": "stream",
          "name": "stderr",
          "text": [
            "<ipython-input-21-a0f25ea1cb77>:32: UserWarning: Implicit dimension choice for softmax has been deprecated. Change the call to include dim=X as an argument.\n",
            "  output = self.dense_3(output)\n"
          ]
        },
        {
          "output_type": "stream",
          "name": "stdout",
          "text": [
            "                 precision    recall  f1-score   support\n",
            "\n",
            "  active motion       0.92      0.97      0.95      1285\n",
            "inactive motion       0.96      0.91      0.93      1147\n",
            "\n",
            "       accuracy                           0.94      2432\n",
            "      macro avg       0.94      0.94      0.94      2432\n",
            "   weighted avg       0.94      0.94      0.94      2432\n",
            "\n",
            " control_accuracy 0.9403782894736842\n"
          ]
        }
      ],
      "source": [
        "y_true = []\n",
        "y_pred_probs = []\n",
        "model.eval()\n",
        "\n",
        "with torch.no_grad():\n",
        "    for idx, (inputs, labels) in enumerate(control_loader):\n",
        "        inputs = inputs.to(device)\n",
        "        labels = labels.to(device)\n",
        "        #optimizer.zero_grad()\n",
        "        preds = model(inputs.float())\n",
        "        loss = criterion(preds, labels.squeeze().long())\n",
        "        y_true.extend(labels.cpu().numpy())\n",
        "        y_pred_probs.extend(preds.detach().cpu().numpy())\n",
        "\n",
        "    y_true = np.array(y_true)\n",
        "    y_pred_probs = np.array(y_pred_probs)\n",
        "    class_names = ['active motion', 'inactive motion']\n",
        "    report = classification_report(y_true, np.argmax(y_pred_probs, axis=1), target_names=class_names)\n",
        "    print(report)\n",
        "    accuracy = calculate_accuracy(y_true, y_pred_probs)\n",
        "\n",
        "    print(f' control_accuracy {accuracy}')"
      ]
    },
    {
      "cell_type": "code",
      "execution_count": 33,
      "metadata": {
        "colab": {
          "base_uri": "https://localhost:8080/"
        },
        "id": "dD4__KNqp_ol",
        "outputId": "c5ad0b28-c4f0-4eb0-ddf5-4db895bb2993"
      },
      "outputs": [
        {
          "output_type": "stream",
          "name": "stderr",
          "text": [
            "<ipython-input-21-a0f25ea1cb77>:32: UserWarning: Implicit dimension choice for softmax has been deprecated. Change the call to include dim=X as an argument.\n",
            "  output = self.dense_3(output)\n"
          ]
        },
        {
          "output_type": "stream",
          "name": "stdout",
          "text": [
            "                 precision    recall  f1-score   support\n",
            "\n",
            "  active motion       0.92      0.96      0.94      1777\n",
            "inactive motion       0.96      0.92      0.94      1935\n",
            "\n",
            "       accuracy                           0.94      3712\n",
            "      macro avg       0.94      0.94      0.94      3712\n",
            "   weighted avg       0.94      0.94      0.94      3712\n",
            "\n",
            "test_accuracy 0.9407327586206896\n"
          ]
        }
      ],
      "source": [
        "y_true = []\n",
        "y_pred_probs = []\n",
        "model.eval()\n",
        "\n",
        "with torch.no_grad():\n",
        "    for idx, (inputs, labels) in enumerate(test_loader):\n",
        "        inputs = inputs.to(device)\n",
        "        labels = labels.to(device)\n",
        "        #optimizer.zero_grad()\n",
        "        preds = model(inputs.float())\n",
        "        loss = criterion(preds, labels.squeeze().long())\n",
        "        y_true.extend(labels.cpu().numpy())\n",
        "        y_pred_probs.extend(preds.detach().cpu().numpy())\n",
        "\n",
        "    y_true = np.array(y_true)\n",
        "    y_pred_probs = np.array(y_pred_probs)\n",
        "    class_names = ['active motion', 'inactive motion']\n",
        "    report = classification_report(y_true, np.argmax(y_pred_probs, axis=1), target_names=class_names)\n",
        "    print(report)\n",
        "    accuracy = calculate_accuracy(y_true, y_pred_probs)\n",
        "\n",
        "    print(f'test_accuracy {accuracy}')"
      ]
    },
    {
      "cell_type": "code",
      "execution_count": 31,
      "metadata": {
        "colab": {
          "base_uri": "https://localhost:8080/"
        },
        "id": "jM7f4rrOGKms",
        "outputId": "b8c7fc83-0810-41cd-b97d-cf4e3d35d2f8"
      },
      "outputs": [
        {
          "output_type": "stream",
          "name": "stderr",
          "text": [
            "<ipython-input-21-a0f25ea1cb77>:32: UserWarning: Implicit dimension choice for softmax has been deprecated. Change the call to include dim=X as an argument.\n",
            "  output = self.dense_3(output)\n"
          ]
        },
        {
          "output_type": "stream",
          "name": "stdout",
          "text": [
            "                 precision    recall  f1-score   support\n",
            "\n",
            "  active motion       0.89      0.93      0.91      7256\n",
            "inactive motion       0.93      0.89      0.91      7720\n",
            "\n",
            "       accuracy                           0.91     14976\n",
            "      macro avg       0.91      0.91      0.91     14976\n",
            "   weighted avg       0.91      0.91      0.91     14976\n",
            "\n",
            "train_accuracy 0.9069845085470085\n"
          ]
        }
      ],
      "source": [
        "y_true = []\n",
        "y_pred_probs = []\n",
        "model.eval()\n",
        "\n",
        "with torch.no_grad():\n",
        "    for idx, (inputs, labels) in enumerate(train_loader):\n",
        "        inputs = inputs.to(device)\n",
        "        labels = labels.to(device)\n",
        "        #optimizer.zero_grad()\n",
        "        preds = model(inputs.float())\n",
        "        loss = criterion(preds, labels.squeeze().long())\n",
        "        y_true.extend(labels.cpu().numpy())\n",
        "        y_pred_probs.extend(preds.detach().cpu().numpy())\n",
        "\n",
        "    y_true = np.array(y_true)\n",
        "    y_pred_probs = np.array(y_pred_probs)\n",
        "    class_names = ['active motion', 'inactive motion']\n",
        "    report = classification_report(y_true, np.argmax(y_pred_probs, axis=1), target_names=class_names)\n",
        "    print(report)\n",
        "    accuracy = calculate_accuracy(y_true, y_pred_probs)\n",
        "\n",
        "    print(f'train_accuracy {accuracy}')"
      ]
    },
    {
      "cell_type": "code",
      "execution_count": null,
      "metadata": {
        "id": "KOVmRI-fGTZu"
      },
      "outputs": [],
      "source": []
    }
  ],
  "metadata": {
    "accelerator": "GPU",
    "colab": {
      "gpuType": "T4",
      "provenance": []
    },
    "kernelspec": {
      "display_name": "Python 3 (ipykernel)",
      "language": "python",
      "name": "python3"
    },
    "language_info": {
      "codemirror_mode": {
        "name": "ipython",
        "version": 3
      },
      "file_extension": ".py",
      "mimetype": "text/x-python",
      "name": "python",
      "nbconvert_exporter": "python",
      "pygments_lexer": "ipython3",
      "version": "3.8.10"
    }
  },
  "nbformat": 4,
  "nbformat_minor": 0
}