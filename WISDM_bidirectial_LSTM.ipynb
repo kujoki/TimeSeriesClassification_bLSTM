{
 "cells": [
  {
   "cell_type": "code",
   "execution_count": 2,
   "metadata": {
    "id": "8uIB3sRRS-g6"
   },
   "outputs": [],
   "source": [
    "import matplotlib.pyplot as plt\n",
    "import random\n",
    "import numpy as np\n",
    "import pandas as pd\n",
    "from scipy import stats\n",
    "from sklearn.metrics import (accuracy_score, classification_report,\n",
    "                             confusion_matrix, roc_auc_score)\n",
    "from sklearn.utils import resample\n",
    "from torchmetrics import AUROC\n",
    "\n",
    "%matplotlib inline\n",
    "\n",
    "import logging\n",
    "\n",
    "import torch\n",
    "import torchmetrics\n",
    "import torch.nn as nn\n",
    "import torch.optim as optim\n",
    "from pytorch_lightning.loggers import TensorBoardLogger\n",
    "from sklearn import preprocessing\n",
    "from sklearn.model_selection import KFold\n",
    "from sklearn.utils import resample\n",
    "from torch.utils.data import DataLoader, TensorDataset"
   ]
  },
  {
   "cell_type": "code",
   "execution_count": 3,
   "metadata": {
    "id": "CJuy7ZSzAT0E"
   },
   "outputs": [],
   "source": [
    "from torch.utils.data import DataLoader"
   ]
  },
  {
   "cell_type": "code",
   "execution_count": 4,
   "metadata": {
    "id": "-D6sghet2ePA"
   },
   "outputs": [],
   "source": [
    "torch.manual_seed(42)\n",
    "random.seed(42)"
   ]
  },
  {
   "cell_type": "code",
   "execution_count": 6,
   "metadata": {
    "colab": {
     "base_uri": "https://localhost:8080/"
    },
    "id": "kALI-MmOUiCz",
    "outputId": "95a33209-c85f-4412-f810-0b47c4ca9426"
   },
   "outputs": [
    {
     "name": "stderr",
     "output_type": "stream",
     "text": [
      "<ipython-input-6-e099350a8d69>:5: SettingWithCopyWarning: \n",
      "A value is trying to be set on a copy of a slice from a DataFrame.\n",
      "Try using .loc[row_indexer,col_indexer] = value instead\n",
      "\n",
      "See the caveats in the documentation: https://pandas.pydata.org/pandas-docs/stable/user_guide/indexing.html#returning-a-view-versus-a-copy\n",
      "  filtred_df[0] = filtred_df[0].apply(lambda x: x.split(','))\n",
      "<ipython-input-6-e099350a8d69>:10: SettingWithCopyWarning: \n",
      "A value is trying to be set on a copy of a slice from a DataFrame.\n",
      "Try using .loc[row_indexer,col_indexer] = value instead\n",
      "\n",
      "See the caveats in the documentation: https://pandas.pydata.org/pandas-docs/stable/user_guide/indexing.html#returning-a-view-versus-a-copy\n",
      "  filtred_df[f'{el}'] = filtred_df[0].apply(lambda x: x[i])\n",
      "<ipython-input-6-e099350a8d69>:10: SettingWithCopyWarning: \n",
      "A value is trying to be set on a copy of a slice from a DataFrame.\n",
      "Try using .loc[row_indexer,col_indexer] = value instead\n",
      "\n",
      "See the caveats in the documentation: https://pandas.pydata.org/pandas-docs/stable/user_guide/indexing.html#returning-a-view-versus-a-copy\n",
      "  filtred_df[f'{el}'] = filtred_df[0].apply(lambda x: x[i])\n",
      "<ipython-input-6-e099350a8d69>:10: SettingWithCopyWarning: \n",
      "A value is trying to be set on a copy of a slice from a DataFrame.\n",
      "Try using .loc[row_indexer,col_indexer] = value instead\n",
      "\n",
      "See the caveats in the documentation: https://pandas.pydata.org/pandas-docs/stable/user_guide/indexing.html#returning-a-view-versus-a-copy\n",
      "  filtred_df[f'{el}'] = filtred_df[0].apply(lambda x: x[i])\n",
      "<ipython-input-6-e099350a8d69>:10: SettingWithCopyWarning: \n",
      "A value is trying to be set on a copy of a slice from a DataFrame.\n",
      "Try using .loc[row_indexer,col_indexer] = value instead\n",
      "\n",
      "See the caveats in the documentation: https://pandas.pydata.org/pandas-docs/stable/user_guide/indexing.html#returning-a-view-versus-a-copy\n",
      "  filtred_df[f'{el}'] = filtred_df[0].apply(lambda x: x[i])\n",
      "<ipython-input-6-e099350a8d69>:10: SettingWithCopyWarning: \n",
      "A value is trying to be set on a copy of a slice from a DataFrame.\n",
      "Try using .loc[row_indexer,col_indexer] = value instead\n",
      "\n",
      "See the caveats in the documentation: https://pandas.pydata.org/pandas-docs/stable/user_guide/indexing.html#returning-a-view-versus-a-copy\n",
      "  filtred_df[f'{el}'] = filtred_df[0].apply(lambda x: x[i])\n",
      "<ipython-input-6-e099350a8d69>:12: SettingWithCopyWarning: \n",
      "A value is trying to be set on a copy of a slice from a DataFrame.\n",
      "Try using .loc[row_indexer,col_indexer] = value instead\n",
      "\n",
      "See the caveats in the documentation: https://pandas.pydata.org/pandas-docs/stable/user_guide/indexing.html#returning-a-view-versus-a-copy\n",
      "  filtred_df[f'{el}'] = filtred_df[0].apply(lambda x: x[i][:-1])\n"
     ]
    }
   ],
   "source": [
    "df = pd.read_csv(\"WISDM_ar_v1.1_raw.txt\", sep = ' ', header = None)\n",
    "\n",
    "df['lenght'] = df[0].apply(lambda x: x.split(',')).apply(lambda x: len(x))\n",
    "filtred_df = df[~df['lenght'].isin([7, 11])]\n",
    "filtred_df[0] = filtred_df[0].apply(lambda x: x.split(','))\n",
    "\n",
    "columns = ['user','activity','timestamp', 'x-axis', 'y-axis', 'z-axis']\n",
    "for i, el in enumerate(columns):\n",
    "  if i != len(columns)-1:\n",
    "    filtred_df[f'{el}'] = filtred_df[0].apply(lambda x: x[i])\n",
    "  else:\n",
    "    filtred_df[f'{el}'] = filtred_df[0].apply(lambda x: x[i][:-1])\n",
    "\n",
    "filtred_df = filtred_df.drop(columns = [0, 'lenght', 'timestamp'])"
   ]
  },
  {
   "cell_type": "code",
   "execution_count": 7,
   "metadata": {
    "id": "GFUbYXteVnt7"
   },
   "outputs": [],
   "source": [
    "le = preprocessing.LabelEncoder()\n",
    "filtred_df['activity'] = le.fit_transform(filtred_df['activity'])"
   ]
  },
  {
   "cell_type": "code",
   "execution_count": 8,
   "metadata": {
    "colab": {
     "base_uri": "https://localhost:8080/"
    },
    "id": "TzpENKaoU15e",
    "outputId": "b55a9928-4755-483b-e283-6666f66e1560"
   },
   "outputs": [
    {
     "name": "stdout",
     "output_type": "stream",
     "text": [
      "<class 'pandas.core.frame.DataFrame'>\n",
      "Int64Index: 1086466 entries, 0 to 1098203\n",
      "Data columns (total 5 columns):\n",
      " #   Column    Non-Null Count    Dtype \n",
      "---  ------    --------------    ----- \n",
      " 0   user      1086466 non-null  object\n",
      " 1   activity  1086466 non-null  int64 \n",
      " 2   x-axis    1086466 non-null  object\n",
      " 3   y-axis    1086466 non-null  object\n",
      " 4   z-axis    1086466 non-null  object\n",
      "dtypes: int64(1), object(4)\n",
      "memory usage: 49.7+ MB\n"
     ]
    }
   ],
   "source": [
    "filtred_df.info()"
   ]
  },
  {
   "cell_type": "code",
   "execution_count": 9,
   "metadata": {
    "id": "DgdZpV3TV9yW"
   },
   "outputs": [],
   "source": [
    "def transform(x):\n",
    "  try:\n",
    "    x = float(x)\n",
    "  except ValueError:\n",
    "    x = np.nan\n",
    "  return x\n"
   ]
  },
  {
   "cell_type": "code",
   "execution_count": 10,
   "metadata": {
    "id": "V5IPLcYcVhZU"
   },
   "outputs": [],
   "source": [
    "for el in filtred_df.columns:\n",
    "  filtred_df[el] = filtred_df[el].apply(lambda x: transform(x))\n"
   ]
  },
  {
   "cell_type": "code",
   "execution_count": 11,
   "metadata": {
    "id": "8A7HUgQHDYRO"
   },
   "outputs": [],
   "source": [
    "for col in ['x-axis', 'y-axis', 'z-axis']:\n",
    "  mean_value = filtred_df[col].mean()\n",
    "  sigma = filtred_df[col].std()\n",
    "  filtred_df[col] = filtred_df[col].apply(lambda x: (x-mean_value)/sigma)"
   ]
  },
  {
   "cell_type": "code",
   "execution_count": 12,
   "metadata": {
    "id": "3gB-Hk2hA9Hs"
   },
   "outputs": [],
   "source": [
    "unique_users = list(filtred_df[\"user\"].unique())\n",
    "random.shuffle(unique_users)"
   ]
  },
  {
   "cell_type": "code",
   "execution_count": 13,
   "metadata": {
    "colab": {
     "base_uri": "https://localhost:8080/"
    },
    "id": "Rvl8oWRRgU7f",
    "outputId": "284f2c25-51da-4245-e2f9-7d7c4164372f"
   },
   "outputs": [
    {
     "data": {
      "text/plain": [
       "20.0    56632\n",
       "19.0    45383\n",
       "31.0    44282\n",
       "8.0     41188\n",
       "29.0    38245\n",
       "14.0    38192\n",
       "13.0    37092\n",
       "34.0    35947\n",
       "32.0    35506\n",
       "3.0     35161\n",
       "27.0    34957\n",
       "10.0    34883\n",
       "18.0    32810\n",
       "12.0    32641\n",
       "26.0    32578\n",
       "36.0    32261\n",
       "11.0    31659\n",
       "7.0     30967\n",
       "1.0     29978\n",
       "6.0     29704\n",
       "33.0    29453\n",
       "5.0     28509\n",
       "15.0    28154\n",
       "24.0    25736\n",
       "23.0    25673\n",
       "30.0    25334\n",
       "21.0    23703\n",
       "2.0     23525\n",
       "35.0    22394\n",
       "22.0    22310\n",
       "17.0    22020\n",
       "28.0    21358\n",
       "16.0    20469\n",
       "25.0    13468\n",
       "9.0     12923\n",
       "4.0     11371\n",
       "Name: user, dtype: int64"
      ]
     },
     "execution_count": 13,
     "metadata": {},
     "output_type": "execute_result"
    }
   ],
   "source": [
    "filtred_df['user'].value_counts()"
   ]
  },
  {
   "cell_type": "code",
   "execution_count": 14,
   "metadata": {
    "colab": {
     "base_uri": "https://localhost:8080/"
    },
    "id": "arLhDuyvb5PI",
    "outputId": "fbfd01e8-c2b2-4f90-dd54-069aec6d2be3"
   },
   "outputs": [
    {
     "name": "stdout",
     "output_type": "stream",
     "text": [
      "15078 15078\n"
     ]
    }
   ],
   "source": [
    "def group_by_user(df, user):\n",
    "  return df[df['user'] == user].reset_index(drop = True)\n",
    "\n",
    "def create_window(df, overlay, window_size, train_x, train_y):\n",
    "  for i in range(0, df.shape[0], overlay):\n",
    "    df_sub = df.iloc[i:i+window_size]\n",
    "\n",
    "    if df_sub.shape[0] == window_size:\n",
    "      train_x.append(df_sub[['x-axis', 'y-axis', 'z-axis']].to_numpy())\n",
    "      train_y.append(df_sub['activity'].mode().iloc[0])\n",
    "\n",
    "  return train_x, train_y\n",
    "\n",
    "\n",
    "train_x = []\n",
    "train_y = []\n",
    "\n",
    "window_size = 100\n",
    "overlay = 50\n",
    "\n",
    "users = unique_users[12:]\n",
    "for user in users:\n",
    "  df_user = group_by_user(filtred_df, user)\n",
    "  create_window(df_user, overlay, window_size, train_x, train_y)\n",
    "\n",
    "print (len(train_x), len(train_y))\n"
   ]
  },
  {
   "cell_type": "code",
   "execution_count": 15,
   "metadata": {
    "colab": {
     "base_uri": "https://localhost:8080/"
    },
    "id": "yLIWJX0NITxI",
    "outputId": "9081d101-28d3-4cfb-bdcd-0796da140876"
   },
   "outputs": [
    {
     "name": "stdout",
     "output_type": "stream",
     "text": [
      "3775 3775\n"
     ]
    }
   ],
   "source": [
    "test_x = []\n",
    "test_y = []\n",
    "\n",
    "users = unique_users[12:18]\n",
    "for user in users:\n",
    "  df_user = group_by_user(filtred_df, user)\n",
    "  create_window(df_user, overlay, window_size, test_x, test_y)\n",
    "\n",
    "print (len(test_x), len(test_y))\n"
   ]
  },
  {
   "cell_type": "code",
   "execution_count": 16,
   "metadata": {
    "colab": {
     "base_uri": "https://localhost:8080/"
    },
    "id": "TStIfm5im0KQ",
    "outputId": "f74f03bd-8787-4d83-b9a9-58a04d79b0bb"
   },
   "outputs": [
    {
     "name": "stdout",
     "output_type": "stream",
     "text": [
      "2516 2516\n"
     ]
    }
   ],
   "source": [
    "control_x = []\n",
    "control_y = []\n",
    "\n",
    "users = unique_users[18:22]\n",
    "for user in users:\n",
    "  df_user = group_by_user(filtred_df, user)\n",
    "  create_window(df_user, overlay, window_size, control_x, control_y)\n",
    "\n",
    "print (len(control_x), len(control_y))"
   ]
  },
  {
   "cell_type": "code",
   "execution_count": 17,
   "metadata": {
    "id": "FceCD_1LxBx4"
   },
   "outputs": [],
   "source": [
    "import pickle\n",
    "\n",
    "with open(\"train_x.pkl\", \"wb\") as f:\n",
    "    pickle.dump(train_x, f)\n",
    "\n",
    "with open(\"train_y.pkl\", \"wb\") as f:\n",
    "    pickle.dump(train_y, f)"
   ]
  },
  {
   "cell_type": "code",
   "execution_count": 18,
   "metadata": {
    "colab": {
     "base_uri": "https://localhost:8080/"
    },
    "id": "-hzS9tAjzHpK",
    "outputId": "2105d1d9-4066-496c-d3f5-0f7e1a46d821"
   },
   "outputs": [
    {
     "name": "stderr",
     "output_type": "stream",
     "text": [
      "<ipython-input-18-bab83bad87de>:1: UserWarning: Creating a tensor from a list of numpy.ndarrays is extremely slow. Please consider converting the list to a single numpy.ndarray with numpy.array() before converting to a tensor. (Triggered internally at ../torch/csrc/utils/tensor_new.cpp:245.)\n",
      "  train_dataset = TensorDataset(torch.tensor(train_x, dtype=torch.float32), torch.tensor(train_y, dtype=torch.float32))\n"
     ]
    }
   ],
   "source": [
    "train_dataset = TensorDataset(torch.tensor(train_x, dtype=torch.float32), torch.tensor(train_y, dtype=torch.float32))\n",
    "train_loader = DataLoader(train_dataset, batch_size=128, shuffle=True, drop_last = True)\n",
    "\n",
    "test_dataset = TensorDataset(torch.tensor(test_x, dtype=torch.float32), torch.tensor(test_y, dtype=torch.float32))\n",
    "test_loader = DataLoader(test_dataset, batch_size=128, shuffle=True, drop_last = True)"
   ]
  },
  {
   "cell_type": "code",
   "execution_count": 19,
   "metadata": {
    "id": "T4oVnOn1mqs3"
   },
   "outputs": [],
   "source": [
    "control_dataset = TensorDataset(torch.tensor(control_x, dtype=torch.float32), torch.tensor(control_y, dtype=torch.float32))\n",
    "control_loader = DataLoader(control_dataset, batch_size=128, shuffle=True, drop_last = True)"
   ]
  },
  {
   "cell_type": "code",
   "execution_count": 20,
   "metadata": {
    "id": "B-o4RM5N19_S"
   },
   "outputs": [],
   "source": [
    "class Net(nn.Module):\n",
    "  def __init__(self):\n",
    "    super(Net, self).__init__()\n",
    "    self.lstm1 = nn.LSTM(input_size = 3, hidden_size = 1024, bidirectional=True, batch_first=True)\n",
    "    self.lstm2 = nn.LSTM(input_size = 2048, hidden_size = 768, bidirectional=True, batch_first=True)\n",
    "    self.lstm3 = nn.LSTM(input_size = 3, hidden_size = 768, bidirectional=True, batch_first=True)\n",
    "    self.lstm4 = nn.LSTM(input_size = 3072, hidden_size = 512, bidirectional=True, batch_first=True)\n",
    "    self.lstm5 = nn.LSTM(input_size = 1536, hidden_size = 512, bidirectional=True, batch_first=True)\n",
    "    self.global_max_pooling = torch.nn.Sequential(\n",
    "    torch.nn.AdaptiveMaxPool1d(1),\n",
    "    torch.nn.Flatten(),)\n",
    "    self.dense_1 = nn.Linear(100, 128)\n",
    "    self.dropout = nn.Dropout(0.05)\n",
    "    self.dense_2 = nn.Linear(128, 6)\n",
    "    self.dense_3 = nn.Softmax()\n",
    "\n",
    "  def forward(self, inputs):\n",
    "        x1, _ = self.lstm1(inputs)\n",
    "        l1, _ = self.lstm2(x1)\n",
    "        l2, _ = self.lstm3(inputs)\n",
    "        c1 = torch.cat((l1, l2), dim=2)\n",
    "\n",
    "        l3, _ = self.lstm4(c1)\n",
    "        l4, _ = self.lstm5(l2)\n",
    "\n",
    "        c2 = torch.cat((l3, l4), dim=2)\n",
    "        l6 = self.global_max_pooling(c2)\n",
    "        l7 = self.dense_1(l6)\n",
    "        l8 = self.dropout(l7)\n",
    "\n",
    "        output = self.dense_2(l8)\n",
    "        output = self.dense_3(output)\n",
    "\n",
    "        return output"
   ]
  },
  {
   "cell_type": "code",
   "execution_count": 21,
   "metadata": {
    "colab": {
     "base_uri": "https://localhost:8080/"
    },
    "id": "cUTIHlbc2UaH",
    "outputId": "ca5c9d18-310d-4d93-863e-dce9b099bba7"
   },
   "outputs": [
    {
     "name": "stdout",
     "output_type": "stream",
     "text": [
      "torch.Size([128, 100, 3]) torch.Size([128])\n"
     ]
    }
   ],
   "source": [
    "for inputs, labels in train_loader:\n",
    "  print (inputs.shape, labels.shape)\n",
    "  break"
   ]
  },
  {
   "cell_type": "code",
   "execution_count": 22,
   "metadata": {
    "id": "AZZTjxUXKST3"
   },
   "outputs": [],
   "source": [
    "logger = TensorBoardLogger(\"lightning_logs\", name=\"surface_predictor\")"
   ]
  },
  {
   "cell_type": "code",
   "execution_count": 23,
   "metadata": {
    "id": "qkUqzxiO9zu1"
   },
   "outputs": [],
   "source": [
    "device = torch.device(\"cuda:0\" if torch.cuda.is_available() else \"cpu\")\n",
    "model = Net()\n",
    "model = model.to(device)\n",
    "optimizer = torch.optim.Adam(model.parameters(), lr=1e-5)\n",
    "criterion = nn.CrossEntropyLoss()"
   ]
  },
  {
   "cell_type": "code",
   "execution_count": 24,
   "metadata": {
    "id": "roUS3M6O9-AI"
   },
   "outputs": [],
   "source": [
    "def calculate_accuracy(y_true, y_pred):\n",
    "    y_pred_labels = np.argmax(y_pred, axis=1)\n",
    "    accuracy = accuracy_score(y_true, y_pred_labels)\n",
    "    return accuracy"
   ]
  },
  {
   "cell_type": "code",
   "execution_count": 25,
   "metadata": {
    "colab": {
     "base_uri": "https://localhost:8080/"
    },
    "id": "uCkoIqq9-OTI",
    "outputId": "cd712c25-dba8-4ef2-802c-95717495d977"
   },
   "outputs": [
    {
     "data": {
      "text/plain": [
       "device(type='cuda', index=0)"
      ]
     },
     "execution_count": 25,
     "metadata": {},
     "output_type": "execute_result"
    }
   ],
   "source": [
    "device"
   ]
  },
  {
   "cell_type": "code",
   "execution_count": 26,
   "metadata": {
    "colab": {
     "base_uri": "https://localhost:8080/"
    },
    "id": "H5HgXe5z9qMg",
    "outputId": "8b874f27-c36d-4f46-847e-73d3dd506bd6"
   },
   "outputs": [
    {
     "name": "stdout",
     "output_type": "stream",
     "text": [
      "epochs 1/20\n"
     ]
    },
    {
     "name": "stderr",
     "output_type": "stream",
     "text": [
      "<ipython-input-20-ea2ba83ffe76>:32: UserWarning: Implicit dimension choice for softmax has been deprecated. Change the call to include dim=X as an argument.\n",
      "  output = self.dense_3(output)\n"
     ]
    },
    {
     "name": "stdout",
     "output_type": "stream",
     "text": [
      "train_loss 1.764297366142273, train_accuracy 0.3229166666666667\n"
     ]
    },
    {
     "name": "stderr",
     "output_type": "stream",
     "text": [
      "<ipython-input-20-ea2ba83ffe76>:32: UserWarning: Implicit dimension choice for softmax has been deprecated. Change the call to include dim=X as an argument.\n",
      "  output = self.dense_3(output)\n"
     ]
    },
    {
     "name": "stdout",
     "output_type": "stream",
     "text": [
      "validation_loss 8.31575870513916, validation_accuracy 0.34132543103448276\n",
      "epochs 2/20\n"
     ]
    },
    {
     "name": "stderr",
     "output_type": "stream",
     "text": [
      "<ipython-input-20-ea2ba83ffe76>:32: UserWarning: Implicit dimension choice for softmax has been deprecated. Change the call to include dim=X as an argument.\n",
      "  output = self.dense_3(output)\n"
     ]
    },
    {
     "name": "stdout",
     "output_type": "stream",
     "text": [
      "train_loss 1.7037321329116821, train_accuracy 0.36525106837606836\n"
     ]
    },
    {
     "name": "stderr",
     "output_type": "stream",
     "text": [
      "<ipython-input-20-ea2ba83ffe76>:32: UserWarning: Implicit dimension choice for softmax has been deprecated. Change the call to include dim=X as an argument.\n",
      "  output = self.dense_3(output)\n"
     ]
    },
    {
     "name": "stdout",
     "output_type": "stream",
     "text": [
      "validation_loss 8.132353782653809, validation_accuracy 0.36584051724137934\n",
      "epochs 3/20\n"
     ]
    },
    {
     "name": "stderr",
     "output_type": "stream",
     "text": [
      "<ipython-input-20-ea2ba83ffe76>:32: UserWarning: Implicit dimension choice for softmax has been deprecated. Change the call to include dim=X as an argument.\n",
      "  output = self.dense_3(output)\n"
     ]
    },
    {
     "name": "stdout",
     "output_type": "stream",
     "text": [
      "train_loss 1.6764503717422485, train_accuracy 0.3760016025641026\n"
     ]
    },
    {
     "name": "stderr",
     "output_type": "stream",
     "text": [
      "<ipython-input-20-ea2ba83ffe76>:32: UserWarning: Implicit dimension choice for softmax has been deprecated. Change the call to include dim=X as an argument.\n",
      "  output = self.dense_3(output)\n"
     ]
    },
    {
     "name": "stdout",
     "output_type": "stream",
     "text": [
      "validation_loss 8.060481071472168, validation_accuracy 0.3642241379310345\n",
      "epochs 4/20\n"
     ]
    },
    {
     "name": "stderr",
     "output_type": "stream",
     "text": [
      "<ipython-input-20-ea2ba83ffe76>:32: UserWarning: Implicit dimension choice for softmax has been deprecated. Change the call to include dim=X as an argument.\n",
      "  output = self.dense_3(output)\n"
     ]
    },
    {
     "name": "stdout",
     "output_type": "stream",
     "text": [
      "train_loss 1.6647672653198242, train_accuracy 0.37573450854700857\n"
     ]
    },
    {
     "name": "stderr",
     "output_type": "stream",
     "text": [
      "<ipython-input-20-ea2ba83ffe76>:32: UserWarning: Implicit dimension choice for softmax has been deprecated. Change the call to include dim=X as an argument.\n",
      "  output = self.dense_3(output)\n"
     ]
    },
    {
     "name": "stdout",
     "output_type": "stream",
     "text": [
      "validation_loss 8.023639678955078, validation_accuracy 0.3644935344827586\n",
      "epochs 5/20\n"
     ]
    },
    {
     "name": "stderr",
     "output_type": "stream",
     "text": [
      "<ipython-input-20-ea2ba83ffe76>:32: UserWarning: Implicit dimension choice for softmax has been deprecated. Change the call to include dim=X as an argument.\n",
      "  output = self.dense_3(output)\n"
     ]
    },
    {
     "name": "stdout",
     "output_type": "stream",
     "text": [
      "train_loss 1.6562589406967163, train_accuracy 0.3762686965811966\n"
     ]
    },
    {
     "name": "stderr",
     "output_type": "stream",
     "text": [
      "<ipython-input-20-ea2ba83ffe76>:32: UserWarning: Implicit dimension choice for softmax has been deprecated. Change the call to include dim=X as an argument.\n",
      "  output = self.dense_3(output)\n"
     ]
    },
    {
     "name": "stdout",
     "output_type": "stream",
     "text": [
      "validation_loss 7.945340156555176, validation_accuracy 0.36584051724137934\n",
      "epochs 6/20\n"
     ]
    },
    {
     "name": "stderr",
     "output_type": "stream",
     "text": [
      "<ipython-input-20-ea2ba83ffe76>:32: UserWarning: Implicit dimension choice for softmax has been deprecated. Change the call to include dim=X as an argument.\n",
      "  output = self.dense_3(output)\n"
     ]
    },
    {
     "name": "stdout",
     "output_type": "stream",
     "text": [
      "train_loss 1.6316441297531128, train_accuracy 0.37693643162393164\n"
     ]
    },
    {
     "name": "stderr",
     "output_type": "stream",
     "text": [
      "<ipython-input-20-ea2ba83ffe76>:32: UserWarning: Implicit dimension choice for softmax has been deprecated. Change the call to include dim=X as an argument.\n",
      "  output = self.dense_3(output)\n"
     ]
    },
    {
     "name": "stdout",
     "output_type": "stream",
     "text": [
      "validation_loss 7.780843734741211, validation_accuracy 0.36691810344827586\n",
      "epochs 7/20\n"
     ]
    },
    {
     "name": "stderr",
     "output_type": "stream",
     "text": [
      "<ipython-input-20-ea2ba83ffe76>:32: UserWarning: Implicit dimension choice for softmax has been deprecated. Change the call to include dim=X as an argument.\n",
      "  output = self.dense_3(output)\n"
     ]
    },
    {
     "name": "stdout",
     "output_type": "stream",
     "text": [
      "train_loss 1.6198031902313232, train_accuracy 0.3761351495726496\n"
     ]
    },
    {
     "name": "stderr",
     "output_type": "stream",
     "text": [
      "<ipython-input-20-ea2ba83ffe76>:32: UserWarning: Implicit dimension choice for softmax has been deprecated. Change the call to include dim=X as an argument.\n",
      "  output = self.dense_3(output)\n"
     ]
    },
    {
     "name": "stdout",
     "output_type": "stream",
     "text": [
      "validation_loss 7.750331401824951, validation_accuracy 0.36691810344827586\n",
      "epochs 8/20\n"
     ]
    },
    {
     "name": "stderr",
     "output_type": "stream",
     "text": [
      "<ipython-input-20-ea2ba83ffe76>:32: UserWarning: Implicit dimension choice for softmax has been deprecated. Change the call to include dim=X as an argument.\n",
      "  output = self.dense_3(output)\n"
     ]
    },
    {
     "name": "stdout",
     "output_type": "stream",
     "text": [
      "train_loss 1.6142204999923706, train_accuracy 0.3762686965811966\n"
     ]
    },
    {
     "name": "stderr",
     "output_type": "stream",
     "text": [
      "<ipython-input-20-ea2ba83ffe76>:32: UserWarning: Implicit dimension choice for softmax has been deprecated. Change the call to include dim=X as an argument.\n",
      "  output = self.dense_3(output)\n"
     ]
    },
    {
     "name": "stdout",
     "output_type": "stream",
     "text": [
      "validation_loss 7.741397857666016, validation_accuracy 0.3636853448275862\n",
      "epochs 9/20\n"
     ]
    },
    {
     "name": "stderr",
     "output_type": "stream",
     "text": [
      "<ipython-input-20-ea2ba83ffe76>:32: UserWarning: Implicit dimension choice for softmax has been deprecated. Change the call to include dim=X as an argument.\n",
      "  output = self.dense_3(output)\n"
     ]
    },
    {
     "name": "stdout",
     "output_type": "stream",
     "text": [
      "train_loss 1.6099966764450073, train_accuracy 0.3770032051282051\n"
     ]
    },
    {
     "name": "stderr",
     "output_type": "stream",
     "text": [
      "<ipython-input-20-ea2ba83ffe76>:32: UserWarning: Implicit dimension choice for softmax has been deprecated. Change the call to include dim=X as an argument.\n",
      "  output = self.dense_3(output)\n"
     ]
    },
    {
     "name": "stdout",
     "output_type": "stream",
     "text": [
      "validation_loss 7.706725120544434, validation_accuracy 0.3644935344827586\n",
      "epochs 10/20\n"
     ]
    },
    {
     "name": "stderr",
     "output_type": "stream",
     "text": [
      "<ipython-input-20-ea2ba83ffe76>:32: UserWarning: Implicit dimension choice for softmax has been deprecated. Change the call to include dim=X as an argument.\n",
      "  output = self.dense_3(output)\n"
     ]
    },
    {
     "name": "stdout",
     "output_type": "stream",
     "text": [
      "train_loss 1.60728120803833, train_accuracy 0.3770032051282051\n"
     ]
    },
    {
     "name": "stderr",
     "output_type": "stream",
     "text": [
      "<ipython-input-20-ea2ba83ffe76>:32: UserWarning: Implicit dimension choice for softmax has been deprecated. Change the call to include dim=X as an argument.\n",
      "  output = self.dense_3(output)\n"
     ]
    },
    {
     "name": "stdout",
     "output_type": "stream",
     "text": [
      "validation_loss 7.685798168182373, validation_accuracy 0.3655711206896552\n",
      "epochs 11/20\n"
     ]
    },
    {
     "name": "stderr",
     "output_type": "stream",
     "text": [
      "<ipython-input-20-ea2ba83ffe76>:32: UserWarning: Implicit dimension choice for softmax has been deprecated. Change the call to include dim=X as an argument.\n",
      "  output = self.dense_3(output)\n"
     ]
    },
    {
     "name": "stdout",
     "output_type": "stream",
     "text": [
      "train_loss 1.6054744720458984, train_accuracy 0.3767361111111111\n"
     ]
    },
    {
     "name": "stderr",
     "output_type": "stream",
     "text": [
      "<ipython-input-20-ea2ba83ffe76>:32: UserWarning: Implicit dimension choice for softmax has been deprecated. Change the call to include dim=X as an argument.\n",
      "  output = self.dense_3(output)\n"
     ]
    },
    {
     "name": "stdout",
     "output_type": "stream",
     "text": [
      "validation_loss 7.661480903625488, validation_accuracy 0.3644935344827586\n",
      "epochs 12/20\n"
     ]
    },
    {
     "name": "stderr",
     "output_type": "stream",
     "text": [
      "<ipython-input-20-ea2ba83ffe76>:32: UserWarning: Implicit dimension choice for softmax has been deprecated. Change the call to include dim=X as an argument.\n",
      "  output = self.dense_3(output)\n"
     ]
    },
    {
     "name": "stdout",
     "output_type": "stream",
     "text": [
      "train_loss 1.6031345129013062, train_accuracy 0.3761351495726496\n"
     ]
    },
    {
     "name": "stderr",
     "output_type": "stream",
     "text": [
      "<ipython-input-20-ea2ba83ffe76>:32: UserWarning: Implicit dimension choice for softmax has been deprecated. Change the call to include dim=X as an argument.\n",
      "  output = self.dense_3(output)\n"
     ]
    },
    {
     "name": "stdout",
     "output_type": "stream",
     "text": [
      "validation_loss 7.634360313415527, validation_accuracy 0.3655711206896552\n",
      "epochs 13/20\n"
     ]
    },
    {
     "name": "stderr",
     "output_type": "stream",
     "text": [
      "<ipython-input-20-ea2ba83ffe76>:32: UserWarning: Implicit dimension choice for softmax has been deprecated. Change the call to include dim=X as an argument.\n",
      "  output = self.dense_3(output)\n"
     ]
    },
    {
     "name": "stdout",
     "output_type": "stream",
     "text": [
      "train_loss 1.6001884937286377, train_accuracy 0.3758680555555556\n"
     ]
    },
    {
     "name": "stderr",
     "output_type": "stream",
     "text": [
      "<ipython-input-20-ea2ba83ffe76>:32: UserWarning: Implicit dimension choice for softmax has been deprecated. Change the call to include dim=X as an argument.\n",
      "  output = self.dense_3(output)\n"
     ]
    },
    {
     "name": "stdout",
     "output_type": "stream",
     "text": [
      "validation_loss 7.59523344039917, validation_accuracy 0.36637931034482757\n",
      "epochs 14/20\n"
     ]
    },
    {
     "name": "stderr",
     "output_type": "stream",
     "text": [
      "<ipython-input-20-ea2ba83ffe76>:32: UserWarning: Implicit dimension choice for softmax has been deprecated. Change the call to include dim=X as an argument.\n",
      "  output = self.dense_3(output)\n"
     ]
    },
    {
     "name": "stdout",
     "output_type": "stream",
     "text": [
      "train_loss 1.5918207168579102, train_accuracy 0.37593482905982906\n"
     ]
    },
    {
     "name": "stderr",
     "output_type": "stream",
     "text": [
      "<ipython-input-20-ea2ba83ffe76>:32: UserWarning: Implicit dimension choice for softmax has been deprecated. Change the call to include dim=X as an argument.\n",
      "  output = self.dense_3(output)\n"
     ]
    },
    {
     "name": "stdout",
     "output_type": "stream",
     "text": [
      "validation_loss 7.557435512542725, validation_accuracy 0.36314655172413796\n"
     ]
    },
    {
     "name": "stderr",
     "output_type": "stream",
     "text": [
      "<ipython-input-20-ea2ba83ffe76>:32: UserWarning: Implicit dimension choice for softmax has been deprecated. Change the call to include dim=X as an argument.\n",
      "  output = self.dense_3(output)\n"
     ]
    },
    {
     "name": "stdout",
     "output_type": "stream",
     "text": [
      "epochs 15/20\n",
      "train_loss 1.5792466402053833, train_accuracy 0.3766025641025641\n"
     ]
    },
    {
     "name": "stderr",
     "output_type": "stream",
     "text": [
      "<ipython-input-20-ea2ba83ffe76>:32: UserWarning: Implicit dimension choice for softmax has been deprecated. Change the call to include dim=X as an argument.\n",
      "  output = self.dense_3(output)\n"
     ]
    },
    {
     "name": "stdout",
     "output_type": "stream",
     "text": [
      "validation_loss 7.530404090881348, validation_accuracy 0.3793103448275862\n",
      "epochs 16/20\n"
     ]
    },
    {
     "name": "stderr",
     "output_type": "stream",
     "text": [
      "<ipython-input-20-ea2ba83ffe76>:32: UserWarning: Implicit dimension choice for softmax has been deprecated. Change the call to include dim=X as an argument.\n",
      "  output = self.dense_3(output)\n"
     ]
    },
    {
     "name": "stdout",
     "output_type": "stream",
     "text": [
      "train_loss 1.5639870166778564, train_accuracy 0.44003739316239315\n"
     ]
    },
    {
     "name": "stderr",
     "output_type": "stream",
     "text": [
      "<ipython-input-20-ea2ba83ffe76>:32: UserWarning: Implicit dimension choice for softmax has been deprecated. Change the call to include dim=X as an argument.\n",
      "  output = self.dense_3(output)\n"
     ]
    },
    {
     "name": "stdout",
     "output_type": "stream",
     "text": [
      "validation_loss 7.419145584106445, validation_accuracy 0.5695043103448276\n",
      "epochs 17/20\n"
     ]
    },
    {
     "name": "stderr",
     "output_type": "stream",
     "text": [
      "<ipython-input-20-ea2ba83ffe76>:32: UserWarning: Implicit dimension choice for softmax has been deprecated. Change the call to include dim=X as an argument.\n",
      "  output = self.dense_3(output)\n"
     ]
    },
    {
     "name": "stdout",
     "output_type": "stream",
     "text": [
      "train_loss 1.5352106094360352, train_accuracy 0.6111778846153846\n"
     ]
    },
    {
     "name": "stderr",
     "output_type": "stream",
     "text": [
      "<ipython-input-20-ea2ba83ffe76>:32: UserWarning: Implicit dimension choice for softmax has been deprecated. Change the call to include dim=X as an argument.\n",
      "  output = self.dense_3(output)\n"
     ]
    },
    {
     "name": "stdout",
     "output_type": "stream",
     "text": [
      "validation_loss 7.294015407562256, validation_accuracy 0.6470905172413793\n",
      "epochs 18/20\n"
     ]
    },
    {
     "name": "stderr",
     "output_type": "stream",
     "text": [
      "<ipython-input-20-ea2ba83ffe76>:32: UserWarning: Implicit dimension choice for softmax has been deprecated. Change the call to include dim=X as an argument.\n",
      "  output = self.dense_3(output)\n"
     ]
    },
    {
     "name": "stdout",
     "output_type": "stream",
     "text": [
      "train_loss 1.498927354812622, train_accuracy 0.6438301282051282\n"
     ]
    },
    {
     "name": "stderr",
     "output_type": "stream",
     "text": [
      "<ipython-input-20-ea2ba83ffe76>:32: UserWarning: Implicit dimension choice for softmax has been deprecated. Change the call to include dim=X as an argument.\n",
      "  output = self.dense_3(output)\n"
     ]
    },
    {
     "name": "stdout",
     "output_type": "stream",
     "text": [
      "validation_loss 7.105536937713623, validation_accuracy 0.6460129310344828\n",
      "epochs 19/20\n"
     ]
    },
    {
     "name": "stderr",
     "output_type": "stream",
     "text": [
      "<ipython-input-20-ea2ba83ffe76>:32: UserWarning: Implicit dimension choice for softmax has been deprecated. Change the call to include dim=X as an argument.\n",
      "  output = self.dense_3(output)\n"
     ]
    },
    {
     "name": "stdout",
     "output_type": "stream",
     "text": [
      "train_loss 1.4722011089324951, train_accuracy 0.641426282051282\n"
     ]
    },
    {
     "name": "stderr",
     "output_type": "stream",
     "text": [
      "<ipython-input-20-ea2ba83ffe76>:32: UserWarning: Implicit dimension choice for softmax has been deprecated. Change the call to include dim=X as an argument.\n",
      "  output = self.dense_3(output)\n"
     ]
    },
    {
     "name": "stdout",
     "output_type": "stream",
     "text": [
      "validation_loss 6.955206871032715, validation_accuracy 0.6551724137931034\n",
      "epochs 20/20\n"
     ]
    },
    {
     "name": "stderr",
     "output_type": "stream",
     "text": [
      "<ipython-input-20-ea2ba83ffe76>:32: UserWarning: Implicit dimension choice for softmax has been deprecated. Change the call to include dim=X as an argument.\n",
      "  output = self.dense_3(output)\n"
     ]
    },
    {
     "name": "stdout",
     "output_type": "stream",
     "text": [
      "train_loss 1.4462097883224487, train_accuracy 0.6488381410256411\n"
     ]
    },
    {
     "name": "stderr",
     "output_type": "stream",
     "text": [
      "<ipython-input-20-ea2ba83ffe76>:32: UserWarning: Implicit dimension choice for softmax has been deprecated. Change the call to include dim=X as an argument.\n",
      "  output = self.dense_3(output)\n"
     ]
    },
    {
     "name": "stdout",
     "output_type": "stream",
     "text": [
      "validation_loss 6.901148796081543, validation_accuracy 0.6454741379310345\n"
     ]
    }
   ],
   "source": [
    "import gc\n",
    "train_losses = []\n",
    "valid_losses = []\n",
    "def train():\n",
    "    running_loss = torch.tensor(0.0, device=device)\n",
    "    y_true = []\n",
    "    y_pred_probs = []\n",
    "    model.train()\n",
    "\n",
    "    for idx, (inputs,labels) in enumerate(train_loader):\n",
    "        inputs = inputs.to(device)\n",
    "        labels = labels.to(device)\n",
    "        optimizer.zero_grad()\n",
    "        preds = model(inputs.float())\n",
    "        loss = criterion(preds, labels.squeeze().long())\n",
    "        loss.backward()\n",
    "        optimizer.step()\n",
    "        running_loss += loss\n",
    "\n",
    "        y_true.extend(labels.cpu().numpy())\n",
    "        y_pred_probs.extend(preds.detach().cpu().numpy())\n",
    "\n",
    "    train_loss = running_loss/len(train_loader)\n",
    "    train_losses.append(train_loss.cpu().detach().numpy())\n",
    "\n",
    "    y_true = np.array(y_true)\n",
    "    y_pred_probs = np.array(y_pred_probs)\n",
    "    accuracy = calculate_accuracy(y_true, y_pred_probs)\n",
    "\n",
    "    print(f'train_loss {train_loss}, train_accuracy {accuracy}')\n",
    "    return train_losses\n",
    "\n",
    "def valid():\n",
    "    running_loss = torch.tensor(0.0, device=device)\n",
    "    y_true = []\n",
    "    y_pred_probs = []\n",
    "    model.eval()\n",
    "\n",
    "    with torch.no_grad():\n",
    "        for idx, (inputs, labels) in enumerate(test_loader):\n",
    "            inputs = inputs.to(device)\n",
    "            labels = labels.to(device)\n",
    "            preds = model(inputs.float())\n",
    "            loss = criterion(preds, labels.squeeze().long())\n",
    "\n",
    "            if not loss.isnan():\n",
    "              running_loss += loss\n",
    "\n",
    "            y_true.extend(labels.cpu().numpy())\n",
    "            y_pred_probs.extend(preds.detach().cpu().numpy())\n",
    "\n",
    "        valid_loss = running_loss/(i+1)\n",
    "        valid_losses.append(valid_loss.cpu().detach().numpy())\n",
    "\n",
    "        y_true = np.array(y_true)\n",
    "        y_pred_probs = np.array(y_pred_probs)\n",
    "        accuracy = calculate_accuracy(y_true, y_pred_probs)\n",
    "\n",
    "        print(f'validation_loss {valid_loss}, validation_accuracy {accuracy}')\n",
    "    return valid_losses, accuracy\n",
    "\n",
    "epochs = 20\n",
    "for epoch in range(epochs):\n",
    "    print('epochs {}/{}'.format(epoch+1,epochs))\n",
    "    train_losses = train()\n",
    "    valid_losses, _ = valid()\n",
    "    gc.collect()"
   ]
  },
  {
   "cell_type": "code",
   "execution_count": 27,
   "metadata": {
    "colab": {
     "base_uri": "https://localhost:8080/",
     "height": 449
    },
    "id": "5rOS3O-U8u_e",
    "outputId": "65a34a07-58e0-4e0d-fb2d-cf9363d1ade4"
   },
   "outputs": [
    {
     "data": {
      "image/png": "[encoded data removed]",
      "text/plain": [
       "<Figure size 640x480 with 1 Axes>"
      ]
     },
     "metadata": {},
     "output_type": "display_data"
    }
   ],
   "source": [
    "plt.plot(train_losses, label='Train Loss')\n",
    "plt.xlabel('Epoch')\n",
    "plt.ylabel('Loss')\n",
    "plt.legend()\n",
    "plt.show()"
   ]
  },
  {
   "cell_type": "code",
   "execution_count": 28,
   "metadata": {
    "colab": {
     "base_uri": "https://localhost:8080/",
     "height": 449
    },
    "id": "N9sZdO91frCU",
    "outputId": "35dbc43a-9a21-4b29-893c-e5d9fbcf16f9"
   },
   "outputs": [
    {
     "data": {
      "image/png": "[encoded data removed]",
      "text/plain": [
       "<Figure size 640x480 with 1 Axes>"
      ]
     },
     "metadata": {},
     "output_type": "display_data"
    }
   ],
   "source": [
    "plt.plot(valid_losses, label='Valid Loss')\n",
    "plt.xlabel('Epoch')\n",
    "plt.ylabel('Loss')\n",
    "plt.legend()\n",
    "plt.show()"
   ]
  },
  {
   "cell_type": "code",
   "execution_count": 29,
   "metadata": {
    "id": "5eQVDjwZoa09"
   },
   "outputs": [],
   "source": [
    "def after_argmax(y_pred):\n",
    "    y_pred_labels = np.argmax(y_pred, axis=1)\n",
    "    return y_pred_labels"
   ]
  },
  {
   "cell_type": "code",
   "execution_count": 30,
   "metadata": {
    "colab": {
     "base_uri": "https://localhost:8080/"
    },
    "id": "4I4UaVY3oiho",
    "outputId": "2f9c38b4-47b4-47a6-d24a-6e5ed3f2ce36"
   },
   "outputs": [
    {
     "name": "stderr",
     "output_type": "stream",
     "text": [
      "<ipython-input-20-ea2ba83ffe76>:32: UserWarning: Implicit dimension choice for softmax has been deprecated. Change the call to include dim=X as an argument.\n",
      "  output = self.dense_3(output)\n"
     ]
    },
    {
     "name": "stdout",
     "output_type": "stream",
     "text": [
      "              precision    recall  f1-score   support\n",
      "\n",
      "           0       0.00      0.00      0.00       211\n",
      "           1       0.61      0.69      0.65       704\n",
      "           2       0.88      0.99      0.93       173\n",
      "           3       0.00      0.00      0.00       118\n",
      "           4       0.00      0.00      0.00       221\n",
      "           5       0.65      0.94      0.77      1005\n",
      "\n",
      "    accuracy                           0.66      2432\n",
      "   macro avg       0.36      0.44      0.39      2432\n",
      "weighted avg       0.51      0.66      0.57      2432\n",
      "\n",
      " control_accuracy 0.6570723684210527\n"
     ]
    },
    {
     "name": "stderr",
     "output_type": "stream",
     "text": [
      "/usr/local/lib/python3.10/dist-packages/sklearn/metrics/_classification.py:1344: UndefinedMetricWarning: Precision and F-score are ill-defined and being set to 0.0 in labels with no predicted samples. Use `zero_division` parameter to control this behavior.\n",
      "  _warn_prf(average, modifier, msg_start, len(result))\n",
      "/usr/local/lib/python3.10/dist-packages/sklearn/metrics/_classification.py:1344: UndefinedMetricWarning: Precision and F-score are ill-defined and being set to 0.0 in labels with no predicted samples. Use `zero_division` parameter to control this behavior.\n",
      "  _warn_prf(average, modifier, msg_start, len(result))\n",
      "/usr/local/lib/python3.10/dist-packages/sklearn/metrics/_classification.py:1344: UndefinedMetricWarning: Precision and F-score are ill-defined and being set to 0.0 in labels with no predicted samples. Use `zero_division` parameter to control this behavior.\n",
      "  _warn_prf(average, modifier, msg_start, len(result))\n"
     ]
    }
   ],
   "source": [
    "y_true = []\n",
    "y_pred_probs = []\n",
    "model.eval()\n",
    "\n",
    "with torch.no_grad():\n",
    "    for idx, (inputs, labels) in enumerate(control_loader):\n",
    "        inputs = inputs.to(device)\n",
    "        labels = labels.to(device)\n",
    "        #optimizer.zero_grad()\n",
    "        preds = model(inputs.float())\n",
    "        loss = criterion(preds, labels.squeeze().long())\n",
    "        y_true.extend(labels.cpu().numpy())\n",
    "        y_pred_probs.extend(preds.detach().cpu().numpy())\n",
    "\n",
    "    y_true = np.array(y_true)\n",
    "    y_pred_probs = np.array(y_pred_probs)\n",
    "    class_names = [str(x) for x in range(0,6)]\n",
    "    report = classification_report(y_true, np.argmax(y_pred_probs, axis=1), target_names=class_names)\n",
    "    print(report)\n",
    "    accuracy = calculate_accuracy(y_true, y_pred_probs)\n",
    "\n",
    "    print(f' control_accuracy {accuracy}')"
   ]
  },
  {
   "cell_type": "code",
   "execution_count": 31,
   "metadata": {
    "colab": {
     "base_uri": "https://localhost:8080/"
    },
    "id": "dD4__KNqp_ol",
    "outputId": "04e0b5bc-d105-4545-8459-7729f74b7787"
   },
   "outputs": [
    {
     "name": "stderr",
     "output_type": "stream",
     "text": [
      "<ipython-input-20-ea2ba83ffe76>:32: UserWarning: Implicit dimension choice for softmax has been deprecated. Change the call to include dim=X as an argument.\n",
      "  output = self.dense_3(output)\n"
     ]
    },
    {
     "name": "stdout",
     "output_type": "stream",
     "text": [
      "              precision    recall  f1-score   support\n",
      "\n",
      "           0       0.00      0.00      0.00       312\n",
      "           1       0.60      0.92      0.73      1261\n",
      "           2       0.37      0.54      0.44       207\n",
      "           3       0.00      0.00      0.00       212\n",
      "           4       0.00      0.00      0.00       373\n",
      "           5       0.76      0.84      0.80      1347\n",
      "\n",
      "    accuracy                           0.65      3712\n",
      "   macro avg       0.29      0.38      0.33      3712\n",
      "weighted avg       0.50      0.65      0.56      3712\n",
      "\n",
      "test_accuracy 0.6454741379310345\n"
     ]
    },
    {
     "name": "stderr",
     "output_type": "stream",
     "text": [
      "/usr/local/lib/python3.10/dist-packages/sklearn/metrics/_classification.py:1344: UndefinedMetricWarning: Precision and F-score are ill-defined and being set to 0.0 in labels with no predicted samples. Use `zero_division` parameter to control this behavior.\n",
      "  _warn_prf(average, modifier, msg_start, len(result))\n",
      "/usr/local/lib/python3.10/dist-packages/sklearn/metrics/_classification.py:1344: UndefinedMetricWarning: Precision and F-score are ill-defined and being set to 0.0 in labels with no predicted samples. Use `zero_division` parameter to control this behavior.\n",
      "  _warn_prf(average, modifier, msg_start, len(result))\n",
      "/usr/local/lib/python3.10/dist-packages/sklearn/metrics/_classification.py:1344: UndefinedMetricWarning: Precision and F-score are ill-defined and being set to 0.0 in labels with no predicted samples. Use `zero_division` parameter to control this behavior.\n",
      "  _warn_prf(average, modifier, msg_start, len(result))\n"
     ]
    }
   ],
   "source": [
    "y_true = []\n",
    "y_pred_probs = []\n",
    "model.eval()\n",
    "\n",
    "with torch.no_grad():\n",
    "    for idx, (inputs, labels) in enumerate(test_loader):\n",
    "        inputs = inputs.to(device)\n",
    "        labels = labels.to(device)\n",
    "        #optimizer.zero_grad()\n",
    "        preds = model(inputs.float())\n",
    "        loss = criterion(preds, labels.squeeze().long())\n",
    "        y_true.extend(labels.cpu().numpy())\n",
    "        y_pred_probs.extend(preds.detach().cpu().numpy())\n",
    "\n",
    "    y_true = np.array(y_true)\n",
    "    y_pred_probs = np.array(y_pred_probs)\n",
    "    class_names = [str(x) for x in range(0,6)]\n",
    "    report = classification_report(y_true, np.argmax(y_pred_probs, axis=1), target_names=class_names)\n",
    "    print(report)\n",
    "    accuracy = calculate_accuracy(y_true, y_pred_probs)\n",
    "\n",
    "    print(f'test_accuracy {accuracy}')"
   ]
  },
  {
   "cell_type": "code",
   "execution_count": 32,
   "metadata": {
    "colab": {
     "base_uri": "https://localhost:8080/"
    },
    "id": "jM7f4rrOGKms",
    "outputId": "ea4ba64f-d93f-4e64-d294-6960ef71052a"
   },
   "outputs": [
    {
     "name": "stderr",
     "output_type": "stream",
     "text": [
      "<ipython-input-20-ea2ba83ffe76>:32: UserWarning: Implicit dimension choice for softmax has been deprecated. Change the call to include dim=X as an argument.\n",
      "  output = self.dense_3(output)\n"
     ]
    },
    {
     "name": "stdout",
     "output_type": "stream",
     "text": [
      "              precision    recall  f1-score   support\n",
      "\n",
      "           0       0.00      0.00      0.00      1443\n",
      "           1       0.68      0.86      0.76      4519\n",
      "           2       0.68      0.80      0.73       932\n",
      "           3       0.00      0.00      0.00       693\n",
      "           4       0.00      0.00      0.00      1754\n",
      "           5       0.64      0.92      0.75      5635\n",
      "\n",
      "    accuracy                           0.66     14976\n",
      "   macro avg       0.33      0.43      0.37     14976\n",
      "weighted avg       0.49      0.66      0.56     14976\n",
      "\n",
      "train_accuracy 0.6555154914529915\n"
     ]
    },
    {
     "name": "stderr",
     "output_type": "stream",
     "text": [
      "/usr/local/lib/python3.10/dist-packages/sklearn/metrics/_classification.py:1344: UndefinedMetricWarning: Precision and F-score are ill-defined and being set to 0.0 in labels with no predicted samples. Use `zero_division` parameter to control this behavior.\n",
      "  _warn_prf(average, modifier, msg_start, len(result))\n",
      "/usr/local/lib/python3.10/dist-packages/sklearn/metrics/_classification.py:1344: UndefinedMetricWarning: Precision and F-score are ill-defined and being set to 0.0 in labels with no predicted samples. Use `zero_division` parameter to control this behavior.\n",
      "  _warn_prf(average, modifier, msg_start, len(result))\n",
      "/usr/local/lib/python3.10/dist-packages/sklearn/metrics/_classification.py:1344: UndefinedMetricWarning: Precision and F-score are ill-defined and being set to 0.0 in labels with no predicted samples. Use `zero_division` parameter to control this behavior.\n",
      "  _warn_prf(average, modifier, msg_start, len(result))\n"
     ]
    }
   ],
   "source": [
    "y_true = []\n",
    "y_pred_probs = []\n",
    "model.eval()\n",
    "\n",
    "with torch.no_grad():\n",
    "    for idx, (inputs, labels) in enumerate(train_loader):\n",
    "        inputs = inputs.to(device)\n",
    "        labels = labels.to(device)\n",
    "        #optimizer.zero_grad()\n",
    "        preds = model(inputs.float())\n",
    "        loss = criterion(preds, labels.squeeze().long())\n",
    "        y_true.extend(labels.cpu().numpy())\n",
    "        y_pred_probs.extend(preds.detach().cpu().numpy())\n",
    "\n",
    "    y_true = np.array(y_true)\n",
    "    y_pred_probs = np.array(y_pred_probs)\n",
    "    class_names = [str(x) for x in range(0,6)]\n",
    "    report = classification_report(y_true, np.argmax(y_pred_probs, axis=1), target_names=class_names)\n",
    "    print(report)\n",
    "    accuracy = calculate_accuracy(y_true, y_pred_probs)\n",
    "\n",
    "    print(f'train_accuracy {accuracy}')"
   ]
  },
  {
   "cell_type": "code",
   "execution_count": null,
   "metadata": {
    "id": "KOVmRI-fGTZu"
   },
   "outputs": [],
   "source": []
  }
 ],
 "metadata": {
  "accelerator": "GPU",
  "colab": {
   "gpuType": "T4",
   "provenance": []
  },
  "kernelspec": {
   "display_name": "Python 3 (ipykernel)",
   "language": "python",
   "name": "python3"
  },
  "language_info": {
   "codemirror_mode": {
    "name": "ipython",
    "version": 3
   },
   "file_extension": ".py",
   "mimetype": "text/x-python",
   "name": "python",
   "nbconvert_exporter": "python",
   "pygments_lexer": "ipython3",
   "version": "3.8.10"
  }
 },
 "nbformat": 4,
 "nbformat_minor": 4
}
